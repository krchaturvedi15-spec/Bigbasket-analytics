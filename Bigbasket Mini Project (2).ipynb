{
 "cells": [
  {
   "cell_type": "markdown",
   "id": "24196461-dbc1-4714-8278-dd3707e20f22",
   "metadata": {
    "jp-MarkdownHeadingCollapsed": true
   },
   "source": [
    "## 📊 Mini-Project - Big data analysis \n",
    "\n",
    "About the Project:\n",
    "\n",
    "The Bigbasket Project focuses on conducting an in-depth exploratory data analysis (EDA) on a dataset associated with Bigbasket, one of India’s leading online grocery platforms. The dataset is expected to contain comprehensive information on various Bigbasket products, including attributes such as product categories, pricing, customer ratings, and sales performance.To perform Exploratory Data Analysis on the Bigbasket dataset to uncover insights, identify trends, and support data-driven decisions.\n",
    "\n",
    "Probelm statement:\n",
    "\n",
    "\n",
    "Data Dictionary:\n",
    "\n"
   ]
  },
  {
   "cell_type": "markdown",
   "id": "5fb762a5-b999-427e-939d-3b3f5e30254b",
   "metadata": {
    "jp-MarkdownHeadingCollapsed": true
   },
   "source": [
    "## 🎬 <b> Data Analysis Project: Content Platform Insights"
   ]
  },
  {
   "cell_type": "markdown",
   "id": "de6a9226-aea9-492a-a8bd-8ed1d5d0b0ed",
   "metadata": {},
   "source": [
    "## 🔍 1. Data Exploration\n",
    "- Load and examine the dataset to understand its overall structure.\n",
    "\n",
    "- Identify data types and key features relevant to the analysis.\n",
    "\n",
    "- Observe general trends and detect any initial inconsistencies or anomalies."
   ]
  },
  {
   "cell_type": "code",
   "execution_count": 1,
   "id": "e28372c0-651f-49e1-ba14-11d9fcfebdb1",
   "metadata": {},
   "outputs": [],
   "source": [
    "### creating a data frame \n",
    "## impoting pandas \n",
    "\n",
    "import pandas as pd"
   ]
  },
  {
   "cell_type": "code",
   "execution_count": 2,
   "id": "52a7c6f5-9061-44c7-88f9-bb39e75a12f6",
   "metadata": {},
   "outputs": [],
   "source": [
    "## importing basic libraries \n",
    "import numpy as np\n",
    "import pandas as pd \n",
    "import matplotlib.pyplot as plt \n",
    "import seaborn as sns\n",
    "\n",
    "\n",
    "## safety net \n",
    "import warnings\n",
    "warnings.filterwarnings(\"ignore\")"
   ]
  },
  {
   "cell_type": "code",
   "execution_count": 3,
   "id": "731228c4-f358-4bc4-90c9-fbe7ce3c1644",
   "metadata": {},
   "outputs": [
    {
     "data": {
      "text/html": [
       "<div>\n",
       "<style scoped>\n",
       "    .dataframe tbody tr th:only-of-type {\n",
       "        vertical-align: middle;\n",
       "    }\n",
       "\n",
       "    .dataframe tbody tr th {\n",
       "        vertical-align: top;\n",
       "    }\n",
       "\n",
       "    .dataframe thead th {\n",
       "        text-align: right;\n",
       "    }\n",
       "</style>\n",
       "<table border=\"1\" class=\"dataframe\">\n",
       "  <thead>\n",
       "    <tr style=\"text-align: right;\">\n",
       "      <th></th>\n",
       "      <th>index</th>\n",
       "      <th>product</th>\n",
       "      <th>category</th>\n",
       "      <th>sub_category</th>\n",
       "      <th>brand</th>\n",
       "      <th>sale_price</th>\n",
       "      <th>market_price</th>\n",
       "      <th>type</th>\n",
       "      <th>rating</th>\n",
       "      <th>description</th>\n",
       "    </tr>\n",
       "  </thead>\n",
       "  <tbody>\n",
       "    <tr>\n",
       "      <th>0</th>\n",
       "      <td>1</td>\n",
       "      <td>Garlic Oil - Vegetarian Capsule 500 mg</td>\n",
       "      <td>Beauty &amp; Hygiene</td>\n",
       "      <td>Hair Care</td>\n",
       "      <td>Sri Sri Ayurveda</td>\n",
       "      <td>220.0</td>\n",
       "      <td>220.0</td>\n",
       "      <td>Hair Oil &amp; Serum</td>\n",
       "      <td>4.1</td>\n",
       "      <td>This Product contains Garlic Oil that is known...</td>\n",
       "    </tr>\n",
       "    <tr>\n",
       "      <th>1</th>\n",
       "      <td>2</td>\n",
       "      <td>Water Bottle - Orange</td>\n",
       "      <td>Kitchen, Garden &amp; Pets</td>\n",
       "      <td>Storage &amp; Accessories</td>\n",
       "      <td>Mastercook</td>\n",
       "      <td>180.0</td>\n",
       "      <td>180.0</td>\n",
       "      <td>Water &amp; Fridge Bottles</td>\n",
       "      <td>2.3</td>\n",
       "      <td>Each product is microwave safe (without lid), ...</td>\n",
       "    </tr>\n",
       "    <tr>\n",
       "      <th>2</th>\n",
       "      <td>3</td>\n",
       "      <td>Brass Angle Deep - Plain, No.2</td>\n",
       "      <td>Cleaning &amp; Household</td>\n",
       "      <td>Pooja Needs</td>\n",
       "      <td>Trm</td>\n",
       "      <td>119.0</td>\n",
       "      <td>250.0</td>\n",
       "      <td>Lamp &amp; Lamp Oil</td>\n",
       "      <td>3.4</td>\n",
       "      <td>A perfect gift for all occasions, be it your m...</td>\n",
       "    </tr>\n",
       "    <tr>\n",
       "      <th>3</th>\n",
       "      <td>4</td>\n",
       "      <td>Cereal Flip Lid Container/Storage Jar - Assort...</td>\n",
       "      <td>Cleaning &amp; Household</td>\n",
       "      <td>Bins &amp; Bathroom Ware</td>\n",
       "      <td>Nakoda</td>\n",
       "      <td>149.0</td>\n",
       "      <td>176.0</td>\n",
       "      <td>Laundry, Storage Baskets</td>\n",
       "      <td>3.7</td>\n",
       "      <td>Multipurpose container with an attractive desi...</td>\n",
       "    </tr>\n",
       "    <tr>\n",
       "      <th>4</th>\n",
       "      <td>5</td>\n",
       "      <td>Creme Soft Soap - For Hands &amp; Body</td>\n",
       "      <td>Beauty &amp; Hygiene</td>\n",
       "      <td>Bath &amp; Hand Wash</td>\n",
       "      <td>Nivea</td>\n",
       "      <td>162.0</td>\n",
       "      <td>162.0</td>\n",
       "      <td>Bathing Bars &amp; Soaps</td>\n",
       "      <td>4.4</td>\n",
       "      <td>Nivea Creme Soft Soap gives your skin the best...</td>\n",
       "    </tr>\n",
       "  </tbody>\n",
       "</table>\n",
       "</div>"
      ],
      "text/plain": [
       "   index                                            product  \\\n",
       "0      1             Garlic Oil - Vegetarian Capsule 500 mg   \n",
       "1      2                              Water Bottle - Orange   \n",
       "2      3                     Brass Angle Deep - Plain, No.2   \n",
       "3      4  Cereal Flip Lid Container/Storage Jar - Assort...   \n",
       "4      5                 Creme Soft Soap - For Hands & Body   \n",
       "\n",
       "                 category           sub_category              brand  \\\n",
       "0        Beauty & Hygiene              Hair Care  Sri Sri Ayurveda    \n",
       "1  Kitchen, Garden & Pets  Storage & Accessories         Mastercook   \n",
       "2    Cleaning & Household            Pooja Needs                Trm   \n",
       "3    Cleaning & Household   Bins & Bathroom Ware             Nakoda   \n",
       "4        Beauty & Hygiene       Bath & Hand Wash              Nivea   \n",
       "\n",
       "   sale_price  market_price                      type  rating  \\\n",
       "0       220.0         220.0          Hair Oil & Serum     4.1   \n",
       "1       180.0         180.0    Water & Fridge Bottles     2.3   \n",
       "2       119.0         250.0           Lamp & Lamp Oil     3.4   \n",
       "3       149.0         176.0  Laundry, Storage Baskets     3.7   \n",
       "4       162.0         162.0      Bathing Bars & Soaps     4.4   \n",
       "\n",
       "                                         description  \n",
       "0  This Product contains Garlic Oil that is known...  \n",
       "1  Each product is microwave safe (without lid), ...  \n",
       "2  A perfect gift for all occasions, be it your m...  \n",
       "3  Multipurpose container with an attractive desi...  \n",
       "4  Nivea Creme Soft Soap gives your skin the best...  "
      ]
     },
     "execution_count": 3,
     "metadata": {},
     "output_type": "execute_result"
    }
   ],
   "source": [
    "## loading data \n",
    "df = pd.read_csv(\"BigBasket Products.csv\")\n",
    "\n",
    "##showing dataframe \n",
    "df.head()"
   ]
  },
  {
   "cell_type": "code",
   "execution_count": 4,
   "id": "a6b2125f-ba00-45a9-b50d-f5f00958882c",
   "metadata": {},
   "outputs": [],
   "source": [
    "## dimension, datatype, "
   ]
  },
  {
   "cell_type": "code",
   "execution_count": 5,
   "id": "51a2fbaf-e540-489b-9eab-ae8969b51238",
   "metadata": {},
   "outputs": [
    {
     "data": {
      "text/plain": [
       "(27555, 10)"
      ]
     },
     "execution_count": 5,
     "metadata": {},
     "output_type": "execute_result"
    }
   ],
   "source": [
    "## shape \n",
    "df.shape"
   ]
  },
  {
   "cell_type": "code",
   "execution_count": 6,
   "id": "bf6814d2-4a64-45ed-bf99-c6154b1c8591",
   "metadata": {},
   "outputs": [
    {
     "data": {
      "text/plain": [
       "Index(['index', 'product', 'category', 'sub_category', 'brand', 'sale_price',\n",
       "       'market_price', 'type', 'rating', 'description'],\n",
       "      dtype='object')"
      ]
     },
     "execution_count": 6,
     "metadata": {},
     "output_type": "execute_result"
    }
   ],
   "source": [
    "##columns \n",
    "df.columns"
   ]
  },
  {
   "cell_type": "code",
   "execution_count": 7,
   "id": "25cf9d16-47f2-4a45-9cc1-80d6c28fa64b",
   "metadata": {},
   "outputs": [
    {
     "name": "stdout",
     "output_type": "stream",
     "text": [
      "<class 'pandas.core.frame.DataFrame'>\n",
      "RangeIndex: 27555 entries, 0 to 27554\n",
      "Data columns (total 10 columns):\n",
      " #   Column        Non-Null Count  Dtype  \n",
      "---  ------        --------------  -----  \n",
      " 0   index         27555 non-null  int64  \n",
      " 1   product       27554 non-null  object \n",
      " 2   category      27555 non-null  object \n",
      " 3   sub_category  27555 non-null  object \n",
      " 4   brand         27554 non-null  object \n",
      " 5   sale_price    27549 non-null  float64\n",
      " 6   market_price  27555 non-null  float64\n",
      " 7   type          27555 non-null  object \n",
      " 8   rating        18919 non-null  float64\n",
      " 9   description   27440 non-null  object \n",
      "dtypes: float64(3), int64(1), object(6)\n",
      "memory usage: 2.1+ MB\n"
     ]
    }
   ],
   "source": [
    "df.info()"
   ]
  },
  {
   "cell_type": "markdown",
   "id": "9e30bc46-1896-4f9b-aec5-0dd1b0d6ef15",
   "metadata": {},
   "source": [
    "## 🧹 2. Data Cleaning\n",
    "- Detect and handle missing values appropriately.\n",
    "- Remove duplicate records.\n",
    "- Standardize formats (e.g., dates, text case).\n",
    "- Fix inconsistent entries (e.g., typos in genre or country names)."
   ]
  },
  {
   "cell_type": "code",
   "execution_count": 8,
   "id": "20421536-d29b-46f5-adac-7634a2826eda",
   "metadata": {},
   "outputs": [
    {
     "name": "stdout",
     "output_type": "stream",
     "text": [
      "product\n",
      "Turmeric Powder/Arisina Pudi                                 26\n",
      "Extra Virgin Olive Oil                                       15\n",
      "Cow Ghee/Tuppa                                               14\n",
      "Olive Oil - Extra Virgin                                     12\n",
      "Soft Drink                                                   12\n",
      "                                                             ..\n",
      "Dove Plastic Soap Case - Assorted Colour                      1\n",
      "Detoxifying Mineral Pack                                      1\n",
      "Salted Pumpkin                                                1\n",
      "Plastic Hook/Hanger Card Self Adhesive/Stickable - BH 048     1\n",
      "Water Bottle - Orange                                         1\n",
      "Name: count, Length: 23540, dtype: int64\n",
      "************************************************************************************************************************************************************************************************************************************************\n",
      "category\n",
      "Beauty & Hygiene            7867\n",
      "Gourmet & World Food        4690\n",
      "Kitchen, Garden & Pets      3580\n",
      "Snacks & Branded Foods      2814\n",
      "Foodgrains, Oil & Masala    2676\n",
      "Cleaning & Household        2675\n",
      "Beverages                    885\n",
      "Bakery, Cakes & Dairy        851\n",
      "Baby Care                    610\n",
      "Fruits & Vegetables          557\n",
      "Eggs, Meat & Fish            350\n",
      "Name: count, dtype: int64\n",
      "************************************************************************************************************************************************************************************************************************************************\n",
      "sub_category\n",
      "Skin Care                   2294\n",
      "Health & Medicine           1133\n",
      "Hair Care                   1028\n",
      "Storage & Accessories       1015\n",
      "Fragrances & Deos           1000\n",
      "                            ... \n",
      "Mutton & Lamb                 20\n",
      "Water                         17\n",
      "Flower Bouquets, Bunches       8\n",
      "Pork & Other Meats             5\n",
      "Marinades                      1\n",
      "Name: count, Length: 90, dtype: int64\n",
      "************************************************************************************************************************************************************************************************************************************************\n",
      "brand\n",
      "Fresho              638\n",
      "bb Royal            539\n",
      "BB Home             428\n",
      "DP                  250\n",
      "Fresho Signature    171\n",
      "                   ... \n",
      "Brimune               1\n",
      "Aristocrat            1\n",
      "Aarna                 1\n",
      "Wood & Kemp           1\n",
      "Baron De Bercy        1\n",
      "Name: count, Length: 2313, dtype: int64\n",
      "************************************************************************************************************************************************************************************************************************************************\n",
      "type\n",
      "Face Care                1508\n",
      "Ayurveda                  538\n",
      "Men's Deodorants          500\n",
      "Shampoo & Conditioner     461\n",
      "Glassware                 415\n",
      "                         ... \n",
      "Bagels & Baguette           1\n",
      "Roses                       1\n",
      "Prawns & Shrimps            1\n",
      "Specialty                   1\n",
      "Turkey & Duck               1\n",
      "Name: count, Length: 426, dtype: int64\n",
      "************************************************************************************************************************************************************************************************************************************************\n",
      "description\n",
      "A brand inspired by the Greek goddess of victory, it personifies strength, speed and energy and it launched its first perfume in 1929. Since then, a wide assortment of fragrance collections has hit the marketplace with refreshing, and eye-catching proposals that capture the essence and lifestyle of today´s man and woman.                                                                                                                                                                                                                                                                                                                                                                                                                                                                                                                                                                                                                                                                                                                                                                                          47\n",
      "Baldessarini Ambre Cologne is built around a whisky accord and complemented by top notes of mandarin and red apple, leading to a heart of violet, offset by a leather accord. With a base that blends notes of amber, oakwood, vanilla and labdanum.  For Beauty tips, tricks & more visit https://bigbasket.blog/                                                                                                                                                                                                                                                                                                                                                                                                                                                                                                                                                                                                                                                                                                                                                                                                          44\n",
      "Now free your environment, and yourself from the unhealthy plastic bottles and get a healthier one-time product for all your needs. These high-grade stainless steel bottles are here to enhance your dining and travelling experience, saving you from the negative effects of plastic. The single-walled steel bottles are perfect add-ons to your kitchen collection if you are looking for light-weighed, durable, classy looking product. The bottle comes with sipper & wide mouth steel cap, catering to double usage. Be it going to the gym, or sending it with the kids to school, the colourful sipper can always make it a very convenient, handy and more importantly a style-statement product. You can take it to the office or just keep on the dinner table. Open the wide mouth lid and use at ease. The bottles come with the major USP of inter-changeable lid facility. Now you can make the same steel cap bottle as a sipper bottle by just interchanging the lids. Hence, get 2 of two-in-one featured bottles of same model and capacities and get the best of both, with a variety of colours!    37\n",
      "Energetic strong and stirred with action, X-MEN Charge Body Deodoratnt has the fragrance of pure desire in the most dashing way. Stay irrestible, 24x7.                                                                                                                                                                                                                                                                                                                                                                                                                                                                                                                                                                                                                                                                                                                                                                                                                                                                                                                                                                     35\n",
      "Joyo Klip It Stainless steel container comes with easy locking. These containers are made from high quality non-magnetic stainless steel body. Joyo Klip It container has odourless lid cover with food-grade silicone seal (gasket) in lid & has all 4 sides locks which ensure airtight containers for keeping food fresh, 100% leak-proof containers for keeping food from spilling, stackable design for easily storing the containers on top of each other and the pioneering clip mechanism. Take this container to the office, school, camping or hiking.                                                                                                                                                                                                                                                                                                                                                                                                                                                                                                                                                            29\n",
      "                                                                                                                                                                                                                                                                                                                                                                                                                                                                                                                                                                                                                                                                                                                                                                                                                                                                                                                                                                                                                                                                                                                            ..\n",
      "Get the perfect combination of odour protection and skincare with the NIVEA MEN Protect & Care Roll-On. It keeps body odour in check, leaving you free to carry on with the day with confidence. The 0% Alcohol formula keeps you fresh without hurting your underarm skin.                                                                                                                                                                                                                                                                                                                                                                                                                                                                                                                                                                                                                                                                                                                                                                                                                                                  1\n",
      "Veg Mayonnaise is a FunFoods innovation that was done keeping in view that many Indians are vegetarian. It is rich, smooth and creamy. Its neutral and adaptable taste makes it the perfect core ingredient for a wide array of western dishes such as sandwiches, burgers, wraps and quick white-sauce for macaroni.\\nIt is 100% Veg, Cholesterol and Trans Fat-Free. It is India's largest selling mayonnaise. Make your sandwiches, wraps, macaroni and other exciting recipes, saucier, creamier, juicer. Comes in a smaller pack for easy application.                                                                                                                                                                                                                                                                                                                                                                                                                                                                                                                                                                  1\n",
      "Classmates Asteroid Geometry Box is a set of essential geometrical instruments used by school children, mathematicians and scientists alike. It comes equipped with all the necessary geometrical instruments such as, self centering compass cum divider, foldable 30 cm scale, special mechanical pencil of 0. 5 mm and lead Box with 10 Leads. This geometrical instrument box is the answer to your question for drawing complex diagrams and calculating those complicated geometrical measurements with ease.                                                                                                                                                                                                                                                                                                                                                                                                                                                                                                                                                                                                          1\n",
      "Organize your kitchen with the right kind of storage containers from the house of joyous world. These are made from fine quality materials. These containers will keep the food fresh and safe for long hours. Furthermore, these containers are easy to wash and are a great addition to your kitchen.                                                                                                                                                                                                                                                                                                                                                                                                                                                                                                                                                                                                                                                                                                                                                                                                                      1\n",
      "A Nonalchoholic Beverage Having Polyphenols To Improve Haemoglobin Reducing Cholestrol Level                                                                                                                                                                                                                                                                                                                                                                                                                                                                                                                                                                                                                                                                                                                                                                                                                                                                                                                                                                                                                                 1\n",
      "Name: count, Length: 21944, dtype: int64\n",
      "************************************************************************************************************************************************************************************************************************************************\n"
     ]
    }
   ],
   "source": [
    "### Understading Categorical columns \n",
    "for i in df.select_dtypes(include=[\"object\"]):\n",
    "    a = df[i].value_counts()\n",
    "    print(f\"{a}\")\n",
    "    print(\"********\"*30)"
   ]
  },
  {
   "cell_type": "code",
   "execution_count": 9,
   "id": "c7d3ca4e-bcff-462e-9b47-aed6ea5e2e95",
   "metadata": {},
   "outputs": [
    {
     "name": "stdout",
     "output_type": "stream",
     "text": [
      "missing values:\n",
      "\n",
      "index              0\n",
      "product            1\n",
      "category           0\n",
      "sub_category       0\n",
      "brand              1\n",
      "sale_price         6\n",
      "market_price       0\n",
      "type               0\n",
      "rating          8636\n",
      "description      115\n",
      "dtype: int64\n"
     ]
    }
   ],
   "source": [
    "### missing values in each colunms \n",
    "print(\"missing values:\")\n",
    "print()\n",
    "print(df.isnull().sum())"
   ]
  },
  {
   "cell_type": "code",
   "execution_count": 10,
   "id": "111b0e74-2607-4323-bca4-0e0157ebd521",
   "metadata": {},
   "outputs": [
    {
     "name": "stdout",
     "output_type": "stream",
     "text": [
      "missing values:\n",
      "\n",
      "index            0.000000\n",
      "product          0.003629\n",
      "category         0.000000\n",
      "sub_category     0.000000\n",
      "brand            0.003629\n",
      "sale_price       0.021775\n",
      "market_price     0.000000\n",
      "type             0.000000\n",
      "rating          31.340954\n",
      "description      0.417347\n",
      "dtype: float64\n"
     ]
    }
   ],
   "source": [
    "### percentage of missing  values in each colunms \n",
    "print(\"missing values:\")\n",
    "print()\n",
    "print(df.isnull().sum()/len(df)*100) "
   ]
  },
  {
   "cell_type": "markdown",
   "id": "7c207e5a-6b89-4eee-b407-23f3364e3b69",
   "metadata": {},
   "source": [
    "## 📊 3. Descriptive Statistics\n",
    "Calculate:\n",
    "- Mean, Median, Mode\n",
    "- Range, Minimum, Maximum\n",
    "- Standard Deviation, Variance\n",
    "- Summarize key numerical variables."
   ]
  },
  {
   "cell_type": "code",
   "execution_count": 11,
   "id": "2fbd7727-bd44-42fb-8589-5fe2a8d61244",
   "metadata": {},
   "outputs": [
    {
     "data": {
      "text/html": [
       "<div>\n",
       "<style scoped>\n",
       "    .dataframe tbody tr th:only-of-type {\n",
       "        vertical-align: middle;\n",
       "    }\n",
       "\n",
       "    .dataframe tbody tr th {\n",
       "        vertical-align: top;\n",
       "    }\n",
       "\n",
       "    .dataframe thead th {\n",
       "        text-align: right;\n",
       "    }\n",
       "</style>\n",
       "<table border=\"1\" class=\"dataframe\">\n",
       "  <thead>\n",
       "    <tr style=\"text-align: right;\">\n",
       "      <th></th>\n",
       "      <th>index</th>\n",
       "      <th>sale_price</th>\n",
       "      <th>market_price</th>\n",
       "      <th>rating</th>\n",
       "    </tr>\n",
       "  </thead>\n",
       "  <tbody>\n",
       "    <tr>\n",
       "      <th>count</th>\n",
       "      <td>27555.00000</td>\n",
       "      <td>27549.000000</td>\n",
       "      <td>27555.000000</td>\n",
       "      <td>18919.000000</td>\n",
       "    </tr>\n",
       "    <tr>\n",
       "      <th>mean</th>\n",
       "      <td>13778.00000</td>\n",
       "      <td>334.648391</td>\n",
       "      <td>382.056664</td>\n",
       "      <td>3.943295</td>\n",
       "    </tr>\n",
       "    <tr>\n",
       "      <th>std</th>\n",
       "      <td>7954.58767</td>\n",
       "      <td>1202.102113</td>\n",
       "      <td>581.730717</td>\n",
       "      <td>0.739217</td>\n",
       "    </tr>\n",
       "    <tr>\n",
       "      <th>min</th>\n",
       "      <td>1.00000</td>\n",
       "      <td>2.450000</td>\n",
       "      <td>3.000000</td>\n",
       "      <td>1.000000</td>\n",
       "    </tr>\n",
       "    <tr>\n",
       "      <th>25%</th>\n",
       "      <td>6889.50000</td>\n",
       "      <td>95.000000</td>\n",
       "      <td>100.000000</td>\n",
       "      <td>3.700000</td>\n",
       "    </tr>\n",
       "    <tr>\n",
       "      <th>50%</th>\n",
       "      <td>13778.00000</td>\n",
       "      <td>190.320000</td>\n",
       "      <td>220.000000</td>\n",
       "      <td>4.100000</td>\n",
       "    </tr>\n",
       "    <tr>\n",
       "      <th>75%</th>\n",
       "      <td>20666.50000</td>\n",
       "      <td>359.000000</td>\n",
       "      <td>425.000000</td>\n",
       "      <td>4.300000</td>\n",
       "    </tr>\n",
       "    <tr>\n",
       "      <th>max</th>\n",
       "      <td>27555.00000</td>\n",
       "      <td>112475.000000</td>\n",
       "      <td>12500.000000</td>\n",
       "      <td>5.000000</td>\n",
       "    </tr>\n",
       "  </tbody>\n",
       "</table>\n",
       "</div>"
      ],
      "text/plain": [
       "             index     sale_price  market_price        rating\n",
       "count  27555.00000   27549.000000  27555.000000  18919.000000\n",
       "mean   13778.00000     334.648391    382.056664      3.943295\n",
       "std     7954.58767    1202.102113    581.730717      0.739217\n",
       "min        1.00000       2.450000      3.000000      1.000000\n",
       "25%     6889.50000      95.000000    100.000000      3.700000\n",
       "50%    13778.00000     190.320000    220.000000      4.100000\n",
       "75%    20666.50000     359.000000    425.000000      4.300000\n",
       "max    27555.00000  112475.000000  12500.000000      5.000000"
      ]
     },
     "execution_count": 11,
     "metadata": {},
     "output_type": "execute_result"
    }
   ],
   "source": [
    "## Understanding numerical columns \n",
    "df.describe()"
   ]
  },
  {
   "cell_type": "code",
   "execution_count": 12,
   "id": "118330ad-9cf3-41ee-a914-b3018bc0ed93",
   "metadata": {},
   "outputs": [
    {
     "data": {
      "text/plain": [
       "<Axes: >"
      ]
     },
     "execution_count": 12,
     "metadata": {},
     "output_type": "execute_result"
    },
    {
     "data": {
      "image/png": "[encoded data removed]",
      "text/plain": [
       "<Figure size 640x480 with 1 Axes>"
      ]
     },
     "metadata": {},
     "output_type": "display_data"
    }
   ],
   "source": [
    "## excessive values also called as outliers \n",
    "sns.boxplot(df)"
   ]
  },
  {
   "cell_type": "code",
   "execution_count": 13,
   "id": "fd7ab164-ce1c-4b4e-b347-1a25beb87212",
   "metadata": {},
   "outputs": [],
   "source": [
    "## numerical columns \n",
    "num_col = df.select_dtypes(include = [\"int64\",\"float64\"])\n",
    "for i in num_col.columns:\n",
    "    df[i] = df[i].fillna(df[i].median())"
   ]
  },
  {
   "cell_type": "code",
   "execution_count": 14,
   "id": "8c6f2f75-5086-4ba0-94e2-b4b7d205389b",
   "metadata": {},
   "outputs": [
    {
     "data": {
      "text/plain": [
       "index             0\n",
       "product           1\n",
       "category          0\n",
       "sub_category      0\n",
       "brand             1\n",
       "sale_price        0\n",
       "market_price      0\n",
       "type              0\n",
       "rating            0\n",
       "description     115\n",
       "dtype: int64"
      ]
     },
     "execution_count": 14,
     "metadata": {},
     "output_type": "execute_result"
    }
   ],
   "source": [
    "## checking the values are null or not \n",
    "df.isnull().sum()"
   ]
  },
  {
   "cell_type": "code",
   "execution_count": 15,
   "id": "2f56cf5b-3213-48d9-b21a-6853c1fc8620",
   "metadata": {},
   "outputs": [
    {
     "data": {
      "text/html": [
       "<div>\n",
       "<style scoped>\n",
       "    .dataframe tbody tr th:only-of-type {\n",
       "        vertical-align: middle;\n",
       "    }\n",
       "\n",
       "    .dataframe tbody tr th {\n",
       "        vertical-align: top;\n",
       "    }\n",
       "\n",
       "    .dataframe thead th {\n",
       "        text-align: right;\n",
       "    }\n",
       "</style>\n",
       "<table border=\"1\" class=\"dataframe\">\n",
       "  <thead>\n",
       "    <tr style=\"text-align: right;\">\n",
       "      <th></th>\n",
       "      <th>index</th>\n",
       "      <th>product</th>\n",
       "      <th>category</th>\n",
       "      <th>sub_category</th>\n",
       "      <th>brand</th>\n",
       "      <th>sale_price</th>\n",
       "      <th>market_price</th>\n",
       "      <th>type</th>\n",
       "      <th>rating</th>\n",
       "      <th>description</th>\n",
       "    </tr>\n",
       "  </thead>\n",
       "  <tbody>\n",
       "    <tr>\n",
       "      <th>9765</th>\n",
       "      <td>9766</td>\n",
       "      <td>Food Package - Medium</td>\n",
       "      <td>Cleaning &amp; Household</td>\n",
       "      <td>Disposables, Garbage Bag</td>\n",
       "      <td>NaN</td>\n",
       "      <td>50.0</td>\n",
       "      <td>50.0</td>\n",
       "      <td>Aluminium Foil, Clingwrap</td>\n",
       "      <td>4.1</td>\n",
       "      <td>NaN</td>\n",
       "    </tr>\n",
       "  </tbody>\n",
       "</table>\n",
       "</div>"
      ],
      "text/plain": [
       "      index                product              category  \\\n",
       "9765   9766  Food Package - Medium  Cleaning & Household   \n",
       "\n",
       "                  sub_category brand  sale_price  market_price  \\\n",
       "9765  Disposables, Garbage Bag   NaN        50.0          50.0   \n",
       "\n",
       "                           type  rating description  \n",
       "9765  Aluminium Foil, Clingwrap     4.1         NaN  "
      ]
     },
     "execution_count": 15,
     "metadata": {},
     "output_type": "execute_result"
    }
   ],
   "source": [
    "df[df[\"brand\"].isnull() == True]"
   ]
  },
  {
   "cell_type": "code",
   "execution_count": 16,
   "id": "d9b49437-d070-4077-b562-6dab131646b0",
   "metadata": {},
   "outputs": [
    {
     "data": {
      "text/html": [
       "<div>\n",
       "<style scoped>\n",
       "    .dataframe tbody tr th:only-of-type {\n",
       "        vertical-align: middle;\n",
       "    }\n",
       "\n",
       "    .dataframe tbody tr th {\n",
       "        vertical-align: top;\n",
       "    }\n",
       "\n",
       "    .dataframe thead th {\n",
       "        text-align: right;\n",
       "    }\n",
       "</style>\n",
       "<table border=\"1\" class=\"dataframe\">\n",
       "  <thead>\n",
       "    <tr style=\"text-align: right;\">\n",
       "      <th></th>\n",
       "      <th>index</th>\n",
       "      <th>product</th>\n",
       "      <th>category</th>\n",
       "      <th>sub_category</th>\n",
       "      <th>brand</th>\n",
       "      <th>sale_price</th>\n",
       "      <th>market_price</th>\n",
       "      <th>type</th>\n",
       "      <th>rating</th>\n",
       "      <th>description</th>\n",
       "    </tr>\n",
       "  </thead>\n",
       "  <tbody>\n",
       "    <tr>\n",
       "      <th>2</th>\n",
       "      <td>3</td>\n",
       "      <td>Brass Angle Deep - Plain, No.2</td>\n",
       "      <td>Cleaning &amp; Household</td>\n",
       "      <td>Pooja Needs</td>\n",
       "      <td>Trm</td>\n",
       "      <td>119.0</td>\n",
       "      <td>250.0</td>\n",
       "      <td>Lamp &amp; Lamp Oil</td>\n",
       "      <td>3.4</td>\n",
       "      <td>A perfect gift for all occasions, be it your m...</td>\n",
       "    </tr>\n",
       "    <tr>\n",
       "      <th>3</th>\n",
       "      <td>4</td>\n",
       "      <td>Cereal Flip Lid Container/Storage Jar - Assort...</td>\n",
       "      <td>Cleaning &amp; Household</td>\n",
       "      <td>Bins &amp; Bathroom Ware</td>\n",
       "      <td>Nakoda</td>\n",
       "      <td>149.0</td>\n",
       "      <td>176.0</td>\n",
       "      <td>Laundry, Storage Baskets</td>\n",
       "      <td>3.7</td>\n",
       "      <td>Multipurpose container with an attractive desi...</td>\n",
       "    </tr>\n",
       "    <tr>\n",
       "      <th>5</th>\n",
       "      <td>6</td>\n",
       "      <td>Germ - Removal Multipurpose Wipes</td>\n",
       "      <td>Cleaning &amp; Household</td>\n",
       "      <td>All Purpose Cleaners</td>\n",
       "      <td>Nature Protect</td>\n",
       "      <td>169.0</td>\n",
       "      <td>199.0</td>\n",
       "      <td>Disinfectant Spray &amp; Cleaners</td>\n",
       "      <td>3.3</td>\n",
       "      <td>Stay protected from contamination with Multipu...</td>\n",
       "    </tr>\n",
       "    <tr>\n",
       "      <th>9</th>\n",
       "      <td>10</td>\n",
       "      <td>Scrub Pad - Anti- Bacterial, Regular</td>\n",
       "      <td>Cleaning &amp; Household</td>\n",
       "      <td>Mops, Brushes &amp; Scrubs</td>\n",
       "      <td>Scotch brite</td>\n",
       "      <td>20.0</td>\n",
       "      <td>20.0</td>\n",
       "      <td>Utensil Scrub-Pad, Glove</td>\n",
       "      <td>4.3</td>\n",
       "      <td>Scotch Brite Anti- Bacterial Scrub Pad thoroug...</td>\n",
       "    </tr>\n",
       "    <tr>\n",
       "      <th>13</th>\n",
       "      <td>14</td>\n",
       "      <td>Mold &amp; Mildew Remover with Bleach</td>\n",
       "      <td>Cleaning &amp; Household</td>\n",
       "      <td>All Purpose Cleaners</td>\n",
       "      <td>Clorox</td>\n",
       "      <td>350.0</td>\n",
       "      <td>350.0</td>\n",
       "      <td>Floor &amp; Other Cleaners</td>\n",
       "      <td>3.8</td>\n",
       "      <td>This formula has been scientifically proven to...</td>\n",
       "    </tr>\n",
       "    <tr>\n",
       "      <th>...</th>\n",
       "      <td>...</td>\n",
       "      <td>...</td>\n",
       "      <td>...</td>\n",
       "      <td>...</td>\n",
       "      <td>...</td>\n",
       "      <td>...</td>\n",
       "      <td>...</td>\n",
       "      <td>...</td>\n",
       "      <td>...</td>\n",
       "      <td>...</td>\n",
       "    </tr>\n",
       "    <tr>\n",
       "      <th>27523</th>\n",
       "      <td>27524</td>\n",
       "      <td>Geometry Box - Asteroid</td>\n",
       "      <td>Cleaning &amp; Household</td>\n",
       "      <td>Stationery</td>\n",
       "      <td>Classmate</td>\n",
       "      <td>238.0</td>\n",
       "      <td>250.0</td>\n",
       "      <td>Pen, Pencils</td>\n",
       "      <td>4.3</td>\n",
       "      <td>Classmates Asteroid Geometry Box is a set of e...</td>\n",
       "    </tr>\n",
       "    <tr>\n",
       "      <th>27532</th>\n",
       "      <td>27533</td>\n",
       "      <td>Kitchen Cleaner, Disinfectant &amp; Insect Repellent</td>\n",
       "      <td>Cleaning &amp; Household</td>\n",
       "      <td>All Purpose Cleaners</td>\n",
       "      <td>Herbal Strategi</td>\n",
       "      <td>115.0</td>\n",
       "      <td>130.0</td>\n",
       "      <td>Kitchen, Glass &amp; Drain</td>\n",
       "      <td>4.3</td>\n",
       "      <td>Remove stains too, for a germ/insect free, non...</td>\n",
       "    </tr>\n",
       "    <tr>\n",
       "      <th>27536</th>\n",
       "      <td>27537</td>\n",
       "      <td>Notebook - King Size, Four Line, Ruled</td>\n",
       "      <td>Cleaning &amp; Household</td>\n",
       "      <td>Stationery</td>\n",
       "      <td>Classmate</td>\n",
       "      <td>47.0</td>\n",
       "      <td>48.0</td>\n",
       "      <td>Notebooks, Files, Folders</td>\n",
       "      <td>4.2</td>\n",
       "      <td>Classmate Notebooks are made to the highest qu...</td>\n",
       "    </tr>\n",
       "    <tr>\n",
       "      <th>27544</th>\n",
       "      <td>27545</td>\n",
       "      <td>Brass Dhoop Aarti With Wooden Handle,No.3</td>\n",
       "      <td>Cleaning &amp; Household</td>\n",
       "      <td>Pooja Needs</td>\n",
       "      <td>Trm</td>\n",
       "      <td>239.0</td>\n",
       "      <td>495.0</td>\n",
       "      <td>Other Pooja Needs</td>\n",
       "      <td>4.0</td>\n",
       "      <td>Dhoobakal is a vessel used for burning the Dho...</td>\n",
       "    </tr>\n",
       "    <tr>\n",
       "      <th>27545</th>\n",
       "      <td>27546</td>\n",
       "      <td>Toilet Cleaning Brush - Round With Holder (Big)</td>\n",
       "      <td>Cleaning &amp; Household</td>\n",
       "      <td>Mops, Brushes &amp; Scrubs</td>\n",
       "      <td>Liao</td>\n",
       "      <td>189.0</td>\n",
       "      <td>349.0</td>\n",
       "      <td>Toilet &amp; Other Brushes</td>\n",
       "      <td>3.8</td>\n",
       "      <td>This round toilet brush is made up of virgin q...</td>\n",
       "    </tr>\n",
       "  </tbody>\n",
       "</table>\n",
       "<p>2675 rows × 10 columns</p>\n",
       "</div>"
      ],
      "text/plain": [
       "       index                                            product  \\\n",
       "2          3                     Brass Angle Deep - Plain, No.2   \n",
       "3          4  Cereal Flip Lid Container/Storage Jar - Assort...   \n",
       "5          6                  Germ - Removal Multipurpose Wipes   \n",
       "9         10               Scrub Pad - Anti- Bacterial, Regular   \n",
       "13        14                  Mold & Mildew Remover with Bleach   \n",
       "...      ...                                                ...   \n",
       "27523  27524                            Geometry Box - Asteroid   \n",
       "27532  27533   Kitchen Cleaner, Disinfectant & Insect Repellent   \n",
       "27536  27537             Notebook - King Size, Four Line, Ruled   \n",
       "27544  27545          Brass Dhoop Aarti With Wooden Handle,No.3   \n",
       "27545  27546    Toilet Cleaning Brush - Round With Holder (Big)   \n",
       "\n",
       "                   category            sub_category            brand  \\\n",
       "2      Cleaning & Household             Pooja Needs              Trm   \n",
       "3      Cleaning & Household    Bins & Bathroom Ware           Nakoda   \n",
       "5      Cleaning & Household    All Purpose Cleaners   Nature Protect   \n",
       "9      Cleaning & Household  Mops, Brushes & Scrubs     Scotch brite   \n",
       "13     Cleaning & Household    All Purpose Cleaners           Clorox   \n",
       "...                     ...                     ...              ...   \n",
       "27523  Cleaning & Household              Stationery        Classmate   \n",
       "27532  Cleaning & Household    All Purpose Cleaners  Herbal Strategi   \n",
       "27536  Cleaning & Household              Stationery        Classmate   \n",
       "27544  Cleaning & Household             Pooja Needs              Trm   \n",
       "27545  Cleaning & Household  Mops, Brushes & Scrubs             Liao   \n",
       "\n",
       "       sale_price  market_price                           type  rating  \\\n",
       "2           119.0         250.0                Lamp & Lamp Oil     3.4   \n",
       "3           149.0         176.0       Laundry, Storage Baskets     3.7   \n",
       "5           169.0         199.0  Disinfectant Spray & Cleaners     3.3   \n",
       "9            20.0          20.0       Utensil Scrub-Pad, Glove     4.3   \n",
       "13          350.0         350.0         Floor & Other Cleaners     3.8   \n",
       "...           ...           ...                            ...     ...   \n",
       "27523       238.0         250.0                   Pen, Pencils     4.3   \n",
       "27532       115.0         130.0         Kitchen, Glass & Drain     4.3   \n",
       "27536        47.0          48.0      Notebooks, Files, Folders     4.2   \n",
       "27544       239.0         495.0              Other Pooja Needs     4.0   \n",
       "27545       189.0         349.0         Toilet & Other Brushes     3.8   \n",
       "\n",
       "                                             description  \n",
       "2      A perfect gift for all occasions, be it your m...  \n",
       "3      Multipurpose container with an attractive desi...  \n",
       "5      Stay protected from contamination with Multipu...  \n",
       "9      Scotch Brite Anti- Bacterial Scrub Pad thoroug...  \n",
       "13     This formula has been scientifically proven to...  \n",
       "...                                                  ...  \n",
       "27523  Classmates Asteroid Geometry Box is a set of e...  \n",
       "27532  Remove stains too, for a germ/insect free, non...  \n",
       "27536  Classmate Notebooks are made to the highest qu...  \n",
       "27544  Dhoobakal is a vessel used for burning the Dho...  \n",
       "27545  This round toilet brush is made up of virgin q...  \n",
       "\n",
       "[2675 rows x 10 columns]"
      ]
     },
     "execution_count": 16,
     "metadata": {},
     "output_type": "execute_result"
    }
   ],
   "source": [
    "df[df[\"category\"] == \"Cleaning & Household\"]"
   ]
  },
  {
   "cell_type": "code",
   "execution_count": 17,
   "id": "2a96938d-ac10-48e2-82e5-7645d1f1f1be",
   "metadata": {},
   "outputs": [
    {
     "data": {
      "text/html": [
       "<div>\n",
       "<style scoped>\n",
       "    .dataframe tbody tr th:only-of-type {\n",
       "        vertical-align: middle;\n",
       "    }\n",
       "\n",
       "    .dataframe tbody tr th {\n",
       "        vertical-align: top;\n",
       "    }\n",
       "\n",
       "    .dataframe thead th {\n",
       "        text-align: right;\n",
       "    }\n",
       "</style>\n",
       "<table border=\"1\" class=\"dataframe\">\n",
       "  <thead>\n",
       "    <tr style=\"text-align: right;\">\n",
       "      <th></th>\n",
       "      <th>index</th>\n",
       "      <th>product</th>\n",
       "      <th>category</th>\n",
       "      <th>sub_category</th>\n",
       "      <th>brand</th>\n",
       "      <th>sale_price</th>\n",
       "      <th>market_price</th>\n",
       "      <th>type</th>\n",
       "      <th>rating</th>\n",
       "      <th>description</th>\n",
       "    </tr>\n",
       "  </thead>\n",
       "  <tbody>\n",
       "    <tr>\n",
       "      <th>9765</th>\n",
       "      <td>9766</td>\n",
       "      <td>Food Package - Medium</td>\n",
       "      <td>Cleaning &amp; Household</td>\n",
       "      <td>Disposables, Garbage Bag</td>\n",
       "      <td>NaN</td>\n",
       "      <td>50.0</td>\n",
       "      <td>50.0</td>\n",
       "      <td>Aluminium Foil, Clingwrap</td>\n",
       "      <td>4.1</td>\n",
       "      <td>NaN</td>\n",
       "    </tr>\n",
       "  </tbody>\n",
       "</table>\n",
       "</div>"
      ],
      "text/plain": [
       "      index                product              category  \\\n",
       "9765   9766  Food Package - Medium  Cleaning & Household   \n",
       "\n",
       "                  sub_category brand  sale_price  market_price  \\\n",
       "9765  Disposables, Garbage Bag   NaN        50.0          50.0   \n",
       "\n",
       "                           type  rating description  \n",
       "9765  Aluminium Foil, Clingwrap     4.1         NaN  "
      ]
     },
     "execution_count": 17,
     "metadata": {},
     "output_type": "execute_result"
    }
   ],
   "source": [
    "df[df[\"product\"] == \"Food Package - Medium\" ]"
   ]
  },
  {
   "cell_type": "code",
   "execution_count": 18,
   "id": "9c16af9e-b1de-41ca-a1ba-763883d9ff70",
   "metadata": {},
   "outputs": [
    {
     "data": {
      "text/html": [
       "<div>\n",
       "<style scoped>\n",
       "    .dataframe tbody tr th:only-of-type {\n",
       "        vertical-align: middle;\n",
       "    }\n",
       "\n",
       "    .dataframe tbody tr th {\n",
       "        vertical-align: top;\n",
       "    }\n",
       "\n",
       "    .dataframe thead th {\n",
       "        text-align: right;\n",
       "    }\n",
       "</style>\n",
       "<table border=\"1\" class=\"dataframe\">\n",
       "  <thead>\n",
       "    <tr style=\"text-align: right;\">\n",
       "      <th></th>\n",
       "      <th>index</th>\n",
       "      <th>product</th>\n",
       "      <th>category</th>\n",
       "      <th>sub_category</th>\n",
       "      <th>brand</th>\n",
       "      <th>sale_price</th>\n",
       "      <th>market_price</th>\n",
       "      <th>type</th>\n",
       "      <th>rating</th>\n",
       "      <th>description</th>\n",
       "    </tr>\n",
       "  </thead>\n",
       "  <tbody>\n",
       "    <tr>\n",
       "      <th>277</th>\n",
       "      <td>278</td>\n",
       "      <td>So Soft 2 Ply Face Tissue Box</td>\n",
       "      <td>Cleaning &amp; Household</td>\n",
       "      <td>Disposables, Garbage Bag</td>\n",
       "      <td>Origami</td>\n",
       "      <td>140.0</td>\n",
       "      <td>140.0</td>\n",
       "      <td>Paper Napkin, Tissue Box</td>\n",
       "      <td>4.1</td>\n",
       "      <td>Origami presents premium imported tissues whic...</td>\n",
       "    </tr>\n",
       "    <tr>\n",
       "      <th>572</th>\n",
       "      <td>573</td>\n",
       "      <td>Toilet Roll - 4 Rolls, 3 ply</td>\n",
       "      <td>Cleaning &amp; Household</td>\n",
       "      <td>Disposables, Garbage Bag</td>\n",
       "      <td>Paseo</td>\n",
       "      <td>325.0</td>\n",
       "      <td>325.0</td>\n",
       "      <td>Toilet Paper</td>\n",
       "      <td>4.1</td>\n",
       "      <td>The perfect blend of pure fibre and pure softn...</td>\n",
       "    </tr>\n",
       "    <tr>\n",
       "      <th>674</th>\n",
       "      <td>675</td>\n",
       "      <td>Garbage Bags - Compostable, 100% Corn Starch, ...</td>\n",
       "      <td>Cleaning &amp; Household</td>\n",
       "      <td>Disposables, Garbage Bag</td>\n",
       "      <td>BB Home</td>\n",
       "      <td>450.0</td>\n",
       "      <td>540.0</td>\n",
       "      <td>Garbage Bags</td>\n",
       "      <td>4.0</td>\n",
       "      <td>BB Home Garbage disposable bags are made from ...</td>\n",
       "    </tr>\n",
       "    <tr>\n",
       "      <th>891</th>\n",
       "      <td>892</td>\n",
       "      <td>Kitchen Towel Paper Reusable Tissue Washable</td>\n",
       "      <td>Cleaning &amp; Household</td>\n",
       "      <td>Disposables, Garbage Bag</td>\n",
       "      <td>Beeta</td>\n",
       "      <td>180.0</td>\n",
       "      <td>180.0</td>\n",
       "      <td>Kitchen Rolls</td>\n",
       "      <td>3.8</td>\n",
       "      <td>EAN Code: 8906023212029  Country of origin: In...</td>\n",
       "    </tr>\n",
       "    <tr>\n",
       "      <th>1377</th>\n",
       "      <td>1378</td>\n",
       "      <td>Toilet Rolls - Premium, 6 in 1, 2 Ply</td>\n",
       "      <td>Cleaning &amp; Household</td>\n",
       "      <td>Disposables, Garbage Bag</td>\n",
       "      <td>Freshee</td>\n",
       "      <td>390.0</td>\n",
       "      <td>390.0</td>\n",
       "      <td>Toilet Paper</td>\n",
       "      <td>4.1</td>\n",
       "      <td>Freshee Premium Toilet Rolls are made using 10...</td>\n",
       "    </tr>\n",
       "    <tr>\n",
       "      <th>...</th>\n",
       "      <td>...</td>\n",
       "      <td>...</td>\n",
       "      <td>...</td>\n",
       "      <td>...</td>\n",
       "      <td>...</td>\n",
       "      <td>...</td>\n",
       "      <td>...</td>\n",
       "      <td>...</td>\n",
       "      <td>...</td>\n",
       "      <td>...</td>\n",
       "    </tr>\n",
       "    <tr>\n",
       "      <th>26471</th>\n",
       "      <td>26472</td>\n",
       "      <td>No 1 Karo Toilet Paper</td>\n",
       "      <td>Cleaning &amp; Household</td>\n",
       "      <td>Disposables, Garbage Bag</td>\n",
       "      <td>Bella</td>\n",
       "      <td>389.0</td>\n",
       "      <td>389.0</td>\n",
       "      <td>Toilet Paper</td>\n",
       "      <td>4.3</td>\n",
       "      <td>Bella No1 KARO Toilet Paper \\r\\r\\nWhite 12 pcs...</td>\n",
       "    </tr>\n",
       "    <tr>\n",
       "      <th>26648</th>\n",
       "      <td>26649</td>\n",
       "      <td>Royal - Soft Napkins</td>\n",
       "      <td>Cleaning &amp; Household</td>\n",
       "      <td>Disposables, Garbage Bag</td>\n",
       "      <td>Premier</td>\n",
       "      <td>45.0</td>\n",
       "      <td>45.0</td>\n",
       "      <td>Toilet Paper</td>\n",
       "      <td>4.0</td>\n",
       "      <td>Premier Royal Soft Napkins has the greater mix...</td>\n",
       "    </tr>\n",
       "    <tr>\n",
       "      <th>26681</th>\n",
       "      <td>26682</td>\n",
       "      <td>Paper Napkins - Velwet Tissue (12 x 12)</td>\n",
       "      <td>Cleaning &amp; Household</td>\n",
       "      <td>Disposables, Garbage Bag</td>\n",
       "      <td>Ezee Alka</td>\n",
       "      <td>27.0</td>\n",
       "      <td>27.0</td>\n",
       "      <td>Paper Napkin, Tissue Box</td>\n",
       "      <td>3.8</td>\n",
       "      <td>Velwet paper napkins are lightly moistened tis...</td>\n",
       "    </tr>\n",
       "    <tr>\n",
       "      <th>26766</th>\n",
       "      <td>26767</td>\n",
       "      <td>Paseo Facial Tissue - Ultra Soft Luxurious Sof...</td>\n",
       "      <td>Cleaning &amp; Household</td>\n",
       "      <td>Disposables, Garbage Bag</td>\n",
       "      <td>Paseo</td>\n",
       "      <td>175.0</td>\n",
       "      <td>175.0</td>\n",
       "      <td>Paper Napkin, Tissue Box</td>\n",
       "      <td>4.1</td>\n",
       "      <td>Made from 100%,Natural Virgin fiber. Experienc...</td>\n",
       "    </tr>\n",
       "    <tr>\n",
       "      <th>27303</th>\n",
       "      <td>27304</td>\n",
       "      <td>Zipper Storage - Gallon</td>\n",
       "      <td>Cleaning &amp; Household</td>\n",
       "      <td>Disposables, Garbage Bag</td>\n",
       "      <td>Glad</td>\n",
       "      <td>350.0</td>\n",
       "      <td>350.0</td>\n",
       "      <td>Aluminium Foil, Clingwrap</td>\n",
       "      <td>4.7</td>\n",
       "      <td>NaN</td>\n",
       "    </tr>\n",
       "  </tbody>\n",
       "</table>\n",
       "<p>165 rows × 10 columns</p>\n",
       "</div>"
      ],
      "text/plain": [
       "       index                                            product  \\\n",
       "277      278                      So Soft 2 Ply Face Tissue Box   \n",
       "572      573                       Toilet Roll - 4 Rolls, 3 ply   \n",
       "674      675  Garbage Bags - Compostable, 100% Corn Starch, ...   \n",
       "891      892       Kitchen Towel Paper Reusable Tissue Washable   \n",
       "1377    1378              Toilet Rolls - Premium, 6 in 1, 2 Ply   \n",
       "...      ...                                                ...   \n",
       "26471  26472                             No 1 Karo Toilet Paper   \n",
       "26648  26649                               Royal - Soft Napkins   \n",
       "26681  26682            Paper Napkins - Velwet Tissue (12 x 12)   \n",
       "26766  26767  Paseo Facial Tissue - Ultra Soft Luxurious Sof...   \n",
       "27303  27304                            Zipper Storage - Gallon   \n",
       "\n",
       "                   category              sub_category      brand  sale_price  \\\n",
       "277    Cleaning & Household  Disposables, Garbage Bag    Origami       140.0   \n",
       "572    Cleaning & Household  Disposables, Garbage Bag      Paseo       325.0   \n",
       "674    Cleaning & Household  Disposables, Garbage Bag    BB Home       450.0   \n",
       "891    Cleaning & Household  Disposables, Garbage Bag      Beeta       180.0   \n",
       "1377   Cleaning & Household  Disposables, Garbage Bag    Freshee       390.0   \n",
       "...                     ...                       ...        ...         ...   \n",
       "26471  Cleaning & Household  Disposables, Garbage Bag      Bella       389.0   \n",
       "26648  Cleaning & Household  Disposables, Garbage Bag    Premier        45.0   \n",
       "26681  Cleaning & Household  Disposables, Garbage Bag  Ezee Alka        27.0   \n",
       "26766  Cleaning & Household  Disposables, Garbage Bag      Paseo       175.0   \n",
       "27303  Cleaning & Household  Disposables, Garbage Bag       Glad       350.0   \n",
       "\n",
       "       market_price                       type  rating  \\\n",
       "277           140.0   Paper Napkin, Tissue Box     4.1   \n",
       "572           325.0               Toilet Paper     4.1   \n",
       "674           540.0               Garbage Bags     4.0   \n",
       "891           180.0              Kitchen Rolls     3.8   \n",
       "1377          390.0               Toilet Paper     4.1   \n",
       "...             ...                        ...     ...   \n",
       "26471         389.0               Toilet Paper     4.3   \n",
       "26648          45.0               Toilet Paper     4.0   \n",
       "26681          27.0   Paper Napkin, Tissue Box     3.8   \n",
       "26766         175.0   Paper Napkin, Tissue Box     4.1   \n",
       "27303         350.0  Aluminium Foil, Clingwrap     4.7   \n",
       "\n",
       "                                             description  \n",
       "277    Origami presents premium imported tissues whic...  \n",
       "572    The perfect blend of pure fibre and pure softn...  \n",
       "674    BB Home Garbage disposable bags are made from ...  \n",
       "891    EAN Code: 8906023212029  Country of origin: In...  \n",
       "1377   Freshee Premium Toilet Rolls are made using 10...  \n",
       "...                                                  ...  \n",
       "26471  Bella No1 KARO Toilet Paper \\r\\r\\nWhite 12 pcs...  \n",
       "26648  Premier Royal Soft Napkins has the greater mix...  \n",
       "26681  Velwet paper napkins are lightly moistened tis...  \n",
       "26766  Made from 100%,Natural Virgin fiber. Experienc...  \n",
       "27303                                                NaN  \n",
       "\n",
       "[165 rows x 10 columns]"
      ]
     },
     "execution_count": 18,
     "metadata": {},
     "output_type": "execute_result"
    }
   ],
   "source": [
    "df[df[\"sub_category\"] == \"Disposables, Garbage Bag\" ]"
   ]
  },
  {
   "cell_type": "code",
   "execution_count": 19,
   "id": "1b67d9ef-200c-48ff-9e65-57e121abade3",
   "metadata": {},
   "outputs": [
    {
     "data": {
      "text/plain": [
       "brand\n",
       "Fresho              638\n",
       "bb Royal            539\n",
       "BB Home             428\n",
       "DP                  250\n",
       "Fresho Signature    171\n",
       "                   ... \n",
       "Brimune               1\n",
       "Aristocrat            1\n",
       "Aarna                 1\n",
       "Wood & Kemp           1\n",
       "Baron De Bercy        1\n",
       "Name: count, Length: 2313, dtype: int64"
      ]
     },
     "execution_count": 19,
     "metadata": {},
     "output_type": "execute_result"
    }
   ],
   "source": [
    "df[\"brand\"].value_counts()"
   ]
  },
  {
   "cell_type": "code",
   "execution_count": 20,
   "id": "e1bf85a2-b808-4a9a-ac13-3d8875e882da",
   "metadata": {},
   "outputs": [
    {
     "data": {
      "text/plain": [
       "brand\n",
       "BB Home         39\n",
       "Selpak          20\n",
       "Origami         17\n",
       "Paseo           14\n",
       "Home Mate        9\n",
       "Soft Touch       8\n",
       "Premier          8\n",
       "Freshee          6\n",
       "Pearl Luxury     6\n",
       "Dettol           5\n",
       "Asahikasei       4\n",
       "Glad             4\n",
       "Ezee Alka        4\n",
       "Godya            3\n",
       "Oddy             3\n",
       "Bella            2\n",
       "Mystique         2\n",
       "Multix           1\n",
       "Beeta            1\n",
       "Hindalco         1\n",
       "Sofia            1\n",
       "Savlon           1\n",
       "Aarika           1\n",
       "Peebuddy         1\n",
       "Canopus          1\n",
       "Maylo            1\n",
       "bb Combo         1\n",
       "Name: count, dtype: int64"
      ]
     },
     "execution_count": 20,
     "metadata": {},
     "output_type": "execute_result"
    }
   ],
   "source": [
    "df[df[\"sub_category\"] == \"Disposables, Garbage Bag\" ][\"brand\"].value_counts()"
   ]
  },
  {
   "cell_type": "code",
   "execution_count": 21,
   "id": "068e78c1-4daf-4562-8a60-8ee6cf9c383b",
   "metadata": {},
   "outputs": [],
   "source": [
    "df[\"brand\"] = df[\"brand\"].fillna(\"BB Home\")"
   ]
  },
  {
   "cell_type": "code",
   "execution_count": 22,
   "id": "25a0a31f-e6b9-4b59-8074-395fab09c2ed",
   "metadata": {},
   "outputs": [
    {
     "data": {
      "text/plain": [
       "index             0\n",
       "product           1\n",
       "category          0\n",
       "sub_category      0\n",
       "brand             0\n",
       "sale_price        0\n",
       "market_price      0\n",
       "type              0\n",
       "rating            0\n",
       "description     115\n",
       "dtype: int64"
      ]
     },
     "execution_count": 22,
     "metadata": {},
     "output_type": "execute_result"
    }
   ],
   "source": [
    "df.isnull().sum()"
   ]
  },
  {
   "cell_type": "code",
   "execution_count": 23,
   "id": "53948800-4f08-4be0-becb-71bea23fef76",
   "metadata": {},
   "outputs": [
    {
     "data": {
      "text/html": [
       "<div>\n",
       "<style scoped>\n",
       "    .dataframe tbody tr th:only-of-type {\n",
       "        vertical-align: middle;\n",
       "    }\n",
       "\n",
       "    .dataframe tbody tr th {\n",
       "        vertical-align: top;\n",
       "    }\n",
       "\n",
       "    .dataframe thead th {\n",
       "        text-align: right;\n",
       "    }\n",
       "</style>\n",
       "<table border=\"1\" class=\"dataframe\">\n",
       "  <thead>\n",
       "    <tr style=\"text-align: right;\">\n",
       "      <th></th>\n",
       "      <th>index</th>\n",
       "      <th>product</th>\n",
       "      <th>category</th>\n",
       "      <th>sub_category</th>\n",
       "      <th>brand</th>\n",
       "      <th>sale_price</th>\n",
       "      <th>market_price</th>\n",
       "      <th>type</th>\n",
       "      <th>rating</th>\n",
       "      <th>description</th>\n",
       "    </tr>\n",
       "  </thead>\n",
       "  <tbody>\n",
       "    <tr>\n",
       "      <th>9765</th>\n",
       "      <td>9766</td>\n",
       "      <td>Food Package - Medium</td>\n",
       "      <td>Cleaning &amp; Household</td>\n",
       "      <td>Disposables, Garbage Bag</td>\n",
       "      <td>BB Home</td>\n",
       "      <td>50.0</td>\n",
       "      <td>50.0</td>\n",
       "      <td>Aluminium Foil, Clingwrap</td>\n",
       "      <td>4.1</td>\n",
       "      <td>NaN</td>\n",
       "    </tr>\n",
       "  </tbody>\n",
       "</table>\n",
       "</div>"
      ],
      "text/plain": [
       "      index                product              category  \\\n",
       "9765   9766  Food Package - Medium  Cleaning & Household   \n",
       "\n",
       "                  sub_category    brand  sale_price  market_price  \\\n",
       "9765  Disposables, Garbage Bag  BB Home        50.0          50.0   \n",
       "\n",
       "                           type  rating description  \n",
       "9765  Aluminium Foil, Clingwrap     4.1         NaN  "
      ]
     },
     "execution_count": 23,
     "metadata": {},
     "output_type": "execute_result"
    }
   ],
   "source": [
    "df[df[\"product\"] == \"Food Package - Medium\" ]"
   ]
  },
  {
   "cell_type": "code",
   "execution_count": 24,
   "id": "3fb573d6-f06b-4f0e-a383-eaca41c0831f",
   "metadata": {
    "jupyter": {
     "source_hidden": true
    }
   },
   "outputs": [],
   "source": [
    "df[\"description\"] = df[\"description\"].fillna(\"No description\")"
   ]
  },
  {
   "cell_type": "code",
   "execution_count": 25,
   "id": "c06bda2d-ac5e-4fbc-8b88-ebef3b8f0aff",
   "metadata": {},
   "outputs": [
    {
     "data": {
      "text/plain": [
       "index           0\n",
       "product         1\n",
       "category        0\n",
       "sub_category    0\n",
       "brand           0\n",
       "sale_price      0\n",
       "market_price    0\n",
       "type            0\n",
       "rating          0\n",
       "description     0\n",
       "dtype: int64"
      ]
     },
     "execution_count": 25,
     "metadata": {},
     "output_type": "execute_result"
    }
   ],
   "source": [
    "df.isnull().sum()"
   ]
  },
  {
   "cell_type": "code",
   "execution_count": 26,
   "id": "ec679301-fd29-445a-b828-b915800c58b6",
   "metadata": {},
   "outputs": [
    {
     "data": {
      "text/html": [
       "<div>\n",
       "<style scoped>\n",
       "    .dataframe tbody tr th:only-of-type {\n",
       "        vertical-align: middle;\n",
       "    }\n",
       "\n",
       "    .dataframe tbody tr th {\n",
       "        vertical-align: top;\n",
       "    }\n",
       "\n",
       "    .dataframe thead th {\n",
       "        text-align: right;\n",
       "    }\n",
       "</style>\n",
       "<table border=\"1\" class=\"dataframe\">\n",
       "  <thead>\n",
       "    <tr style=\"text-align: right;\">\n",
       "      <th></th>\n",
       "      <th>index</th>\n",
       "      <th>product</th>\n",
       "      <th>category</th>\n",
       "      <th>sub_category</th>\n",
       "      <th>brand</th>\n",
       "      <th>sale_price</th>\n",
       "      <th>market_price</th>\n",
       "      <th>type</th>\n",
       "      <th>rating</th>\n",
       "      <th>description</th>\n",
       "    </tr>\n",
       "  </thead>\n",
       "  <tbody>\n",
       "    <tr>\n",
       "      <th>14363</th>\n",
       "      <td>14364</td>\n",
       "      <td>NaN</td>\n",
       "      <td>Beverages</td>\n",
       "      <td>Coffee</td>\n",
       "      <td>Cothas Coffee</td>\n",
       "      <td>200.0</td>\n",
       "      <td>240.0</td>\n",
       "      <td>Ground Coffee</td>\n",
       "      <td>4.2</td>\n",
       "      <td>Cothas Specialty Blend Coffee and Chicory incl...</td>\n",
       "    </tr>\n",
       "  </tbody>\n",
       "</table>\n",
       "</div>"
      ],
      "text/plain": [
       "       index product   category sub_category          brand  sale_price  \\\n",
       "14363  14364     NaN  Beverages       Coffee  Cothas Coffee       200.0   \n",
       "\n",
       "       market_price           type  rating  \\\n",
       "14363         240.0  Ground Coffee     4.2   \n",
       "\n",
       "                                             description  \n",
       "14363  Cothas Specialty Blend Coffee and Chicory incl...  "
      ]
     },
     "execution_count": 26,
     "metadata": {},
     "output_type": "execute_result"
    }
   ],
   "source": [
    "df[df[\"product\"].isnull() == True]"
   ]
  },
  {
   "cell_type": "code",
   "execution_count": 27,
   "id": "a06ceb6c-ede3-4303-a8b9-05471c44f84f",
   "metadata": {},
   "outputs": [
    {
     "data": {
      "text/html": [
       "<div>\n",
       "<style scoped>\n",
       "    .dataframe tbody tr th:only-of-type {\n",
       "        vertical-align: middle;\n",
       "    }\n",
       "\n",
       "    .dataframe tbody tr th {\n",
       "        vertical-align: top;\n",
       "    }\n",
       "\n",
       "    .dataframe thead th {\n",
       "        text-align: right;\n",
       "    }\n",
       "</style>\n",
       "<table border=\"1\" class=\"dataframe\">\n",
       "  <thead>\n",
       "    <tr style=\"text-align: right;\">\n",
       "      <th></th>\n",
       "      <th>index</th>\n",
       "      <th>product</th>\n",
       "      <th>category</th>\n",
       "      <th>sub_category</th>\n",
       "      <th>brand</th>\n",
       "      <th>sale_price</th>\n",
       "      <th>market_price</th>\n",
       "      <th>type</th>\n",
       "      <th>rating</th>\n",
       "      <th>description</th>\n",
       "    </tr>\n",
       "  </thead>\n",
       "  <tbody>\n",
       "    <tr>\n",
       "      <th>9380</th>\n",
       "      <td>9381</td>\n",
       "      <td>Coffee - Powder, Extra Strong</td>\n",
       "      <td>Beverages</td>\n",
       "      <td>Coffee</td>\n",
       "      <td>Cothas Coffee</td>\n",
       "      <td>74.0</td>\n",
       "      <td>74.0</td>\n",
       "      <td>Ground Coffee</td>\n",
       "      <td>4.2</td>\n",
       "      <td>Cothas Extra Strong Coffee Powder is an Instan...</td>\n",
       "    </tr>\n",
       "    <tr>\n",
       "      <th>10655</th>\n",
       "      <td>10656</td>\n",
       "      <td>Coffee - Powder, Premium Special</td>\n",
       "      <td>Beverages</td>\n",
       "      <td>Coffee</td>\n",
       "      <td>Cothas Coffee</td>\n",
       "      <td>210.0</td>\n",
       "      <td>210.0</td>\n",
       "      <td>Ground Coffee</td>\n",
       "      <td>4.2</td>\n",
       "      <td>Cothas coffee offers you with finest of both t...</td>\n",
       "    </tr>\n",
       "    <tr>\n",
       "      <th>12376</th>\n",
       "      <td>12377</td>\n",
       "      <td>Coffee - Powder, Pure Filter, Nova Therm</td>\n",
       "      <td>Beverages</td>\n",
       "      <td>Coffee</td>\n",
       "      <td>Cothas Coffee</td>\n",
       "      <td>280.0</td>\n",
       "      <td>280.0</td>\n",
       "      <td>Ground Coffee</td>\n",
       "      <td>4.1</td>\n",
       "      <td>Made with an innovative thermal manufacturing ...</td>\n",
       "    </tr>\n",
       "    <tr>\n",
       "      <th>14363</th>\n",
       "      <td>14364</td>\n",
       "      <td>NaN</td>\n",
       "      <td>Beverages</td>\n",
       "      <td>Coffee</td>\n",
       "      <td>Cothas Coffee</td>\n",
       "      <td>200.0</td>\n",
       "      <td>240.0</td>\n",
       "      <td>Ground Coffee</td>\n",
       "      <td>4.2</td>\n",
       "      <td>Cothas Specialty Blend Coffee and Chicory incl...</td>\n",
       "    </tr>\n",
       "    <tr>\n",
       "      <th>17127</th>\n",
       "      <td>17128</td>\n",
       "      <td>Coffee - Powder, Premium Blended</td>\n",
       "      <td>Beverages</td>\n",
       "      <td>Coffee</td>\n",
       "      <td>Cothas Coffee</td>\n",
       "      <td>40.0</td>\n",
       "      <td>40.0</td>\n",
       "      <td>Ground Coffee</td>\n",
       "      <td>4.2</td>\n",
       "      <td>Cothas Premium Special Coffee Powder offers th...</td>\n",
       "    </tr>\n",
       "  </tbody>\n",
       "</table>\n",
       "</div>"
      ],
      "text/plain": [
       "       index                                   product   category  \\\n",
       "9380    9381             Coffee - Powder, Extra Strong  Beverages   \n",
       "10655  10656          Coffee - Powder, Premium Special  Beverages   \n",
       "12376  12377  Coffee - Powder, Pure Filter, Nova Therm  Beverages   \n",
       "14363  14364                                       NaN  Beverages   \n",
       "17127  17128          Coffee - Powder, Premium Blended  Beverages   \n",
       "\n",
       "      sub_category          brand  sale_price  market_price           type  \\\n",
       "9380        Coffee  Cothas Coffee        74.0          74.0  Ground Coffee   \n",
       "10655       Coffee  Cothas Coffee       210.0         210.0  Ground Coffee   \n",
       "12376       Coffee  Cothas Coffee       280.0         280.0  Ground Coffee   \n",
       "14363       Coffee  Cothas Coffee       200.0         240.0  Ground Coffee   \n",
       "17127       Coffee  Cothas Coffee        40.0          40.0  Ground Coffee   \n",
       "\n",
       "       rating                                        description  \n",
       "9380      4.2  Cothas Extra Strong Coffee Powder is an Instan...  \n",
       "10655     4.2  Cothas coffee offers you with finest of both t...  \n",
       "12376     4.1  Made with an innovative thermal manufacturing ...  \n",
       "14363     4.2  Cothas Specialty Blend Coffee and Chicory incl...  \n",
       "17127     4.2  Cothas Premium Special Coffee Powder offers th...  "
      ]
     },
     "execution_count": 27,
     "metadata": {},
     "output_type": "execute_result"
    }
   ],
   "source": [
    "df[(df[\"category\"] == \"Beverages\") & (df[\"sub_category\"] == \"Coffee\") & (df[\"brand\"] == \"Cothas Coffee\") ]"
   ]
  },
  {
   "cell_type": "code",
   "execution_count": 28,
   "id": "980062d9-ab34-42f7-ac7b-14ef7b9aa935",
   "metadata": {},
   "outputs": [],
   "source": [
    "df[\"product\"] = df[\"product\"].fillna(\"Coffee-powder,speciality Blend\")"
   ]
  },
  {
   "cell_type": "code",
   "execution_count": 29,
   "id": "41fd5b66-d1f2-40dd-afba-0bb5d1d003be",
   "metadata": {
    "scrolled": true
   },
   "outputs": [
    {
     "data": {
      "text/plain": [
       "index           0\n",
       "product         0\n",
       "category        0\n",
       "sub_category    0\n",
       "brand           0\n",
       "sale_price      0\n",
       "market_price    0\n",
       "type            0\n",
       "rating          0\n",
       "description     0\n",
       "dtype: int64"
      ]
     },
     "execution_count": 29,
     "metadata": {},
     "output_type": "execute_result"
    }
   ],
   "source": [
    "df.isnull().sum()"
   ]
  },
  {
   "cell_type": "markdown",
   "id": "3476f915-3ffd-44ea-b8f5-1e8b4b3346e3",
   "metadata": {},
   "source": [
    "## Handling Outliers - IQR method"
   ]
  },
  {
   "cell_type": "code",
   "execution_count": 30,
   "id": "1c927d88-8e35-47a6-8275-fce9b6554fe4",
   "metadata": {},
   "outputs": [
    {
     "name": "stdout",
     "output_type": "stream",
     "text": [
      "column name: index\n",
      "Q1:6889.5\n",
      "Q2:20666.5\n",
      "upper limit:41332.0\n",
      "lower limit:-13776.0\n",
      "********************************************************************************************************************************************\n",
      "column name: sale_price\n",
      "Q1:95.0\n",
      "Q2:359.0\n",
      "upper limit:755.0\n",
      "lower limit:-301.0\n",
      "********************************************************************************************************************************************\n",
      "column name: market_price\n",
      "Q1:100.0\n",
      "Q2:425.0\n",
      "upper limit:912.5\n",
      "lower limit:-387.5\n",
      "********************************************************************************************************************************************\n",
      "column name: rating\n",
      "Q1:4.0\n",
      "Q2:4.2\n",
      "upper limit:4.5\n",
      "lower limit:3.6999999999999997\n",
      "********************************************************************************************************************************************\n"
     ]
    }
   ],
   "source": [
    "# outliers handling by IQR Method \n",
    "for i in df.select_dtypes(include = [\"int64\",\"float64\"]):\n",
    "    q1 = df[i].quantile(0.25) ##finding first quartile \n",
    "    q3 = df[i].quantile(0.75) ##finding third quantile \n",
    "    iqr = q3-q1 ## finding iqr \n",
    "    ul = q3+1.5*iqr\n",
    "    ll = q1-1.5*iqr\n",
    "\n",
    "    ## for every columns these calculations are different \n",
    "    print(f\"column name: {i}\")\n",
    "    print(f\"Q1:{q1}\")\n",
    "    print(f\"Q2:{q3}\")\n",
    "    print(f\"upper limit:{ul}\")\n",
    "    print(f\"lower limit:{ll}\")\n",
    "    print(\"*******\"*20)\n",
    "    ## set values lower than lower limit -----> lower limit and upper limit than upper limit ----> upper limit \n",
    "    df[i] = np.where(df[i]>ul,ul,df[i])\n",
    "    df[i] = np.where(df[i]<ll,ll,df[i])\n",
    "    "
   ]
  },
  {
   "cell_type": "code",
   "execution_count": 31,
   "id": "25aed4b5-d763-45e8-9524-3849fce28a38",
   "metadata": {},
   "outputs": [
    {
     "data": {
      "text/plain": [
       "<Axes: >"
      ]
     },
     "execution_count": 31,
     "metadata": {},
     "output_type": "execute_result"
    },
    {
     "data": {
      "image/png": "[encoded data removed]",
      "text/plain": [
       "<Figure size 640x480 with 1 Axes>"
      ]
     },
     "metadata": {},
     "output_type": "display_data"
    }
   ],
   "source": [
    "sns.boxplot(df)"
   ]
  },
  {
   "cell_type": "code",
   "execution_count": 32,
   "id": "dea0ddfd-38a7-4b7e-a680-653fa93b2ff3",
   "metadata": {},
   "outputs": [],
   "source": [
    "df.drop(\"index\",axis = 1, inplace = True)"
   ]
  },
  {
   "cell_type": "code",
   "execution_count": 33,
   "id": "a234b25e-3db9-4e8c-bf09-4b7afa8577d9",
   "metadata": {},
   "outputs": [],
   "source": [
    "## copying data \n",
    "cleaned_data = df.copy()"
   ]
  },
  {
   "cell_type": "code",
   "execution_count": null,
   "id": "4be9512e-f4fa-4bf3-8120-2ad27f716f75",
   "metadata": {},
   "outputs": [],
   "source": []
  },
  {
   "cell_type": "code",
   "execution_count": 34,
   "id": "e3c4dc4b-11ba-4d02-9fe7-52428255e166",
   "metadata": {},
   "outputs": [],
   "source": [
    "## saving data to Csv \n",
    "df.to_csv(\"clean_data.csv\")"
   ]
  },
  {
   "cell_type": "markdown",
   "id": "59d7ab9e-032f-4906-ba3b-ed5b6c47b164",
   "metadata": {},
   "source": [
    "## 📈 4. Data Visualization\n",
    "## 🧠 5. Content Analysis\n",
    "## 🎞️ Part 1: Analytical Framework for Insight Extraction\n",
    "Formulated a comprehensive set of analytical questions aimed at uncovering actionable insights from the dataset.\"\n",
    "## ⏱️ Part 2: Bivariant Analysis \n",
    "Analyze variables trends with each other(e.g., How price effects the Demand ?).\n",
    "## ⏱️ Part 3: Multivarient Analysis \n",
    "Performed a detailed examination of the interrelationships between all variables to identify potential correlations"
   ]
  },
  {
   "cell_type": "markdown",
   "id": "d647e204-69c8-47ef-a693-3b37383aa02b",
   "metadata": {
    "jp-MarkdownHeadingCollapsed": true
   },
   "source": [
    "##  Exploratory Data Analysis (EDA)"
   ]
  },
  {
   "cell_type": "markdown",
   "id": "0d870c8a-662c-4b88-ba1f-d1b7c9b94790",
   "metadata": {
    "jp-MarkdownHeadingCollapsed": true
   },
   "source": [
    "## Hypothesis : Question dataset to know the actual insights \n",
    " Which products rank among the Top 10 by sales volume?\n",
    " Which products rank among the Bottom 10 in sales performance?\n",
    " Which product holds the highest market value?\n",
    "\n",
    "## Bivariate Analysis \n",
    " How seeling price affecting market price\n",
    " In what ways does pricing affect consumer demand?\n",
    " What is the impact of customer ratings on the number of units sold?\n",
    "\n",
    "\n",
    "## Multivariate analysis:\n",
    "What correlations exist among the product features? "
   ]
  },
  {
   "cell_type": "markdown",
   "id": "16ff8e19-2b66-48fd-afce-dac394150553",
   "metadata": {},
   "source": [
    "##  Which products rank among the Top 10 by sales volume?"
   ]
  },
  {
   "cell_type": "code",
   "execution_count": 35,
   "id": "88750222-64d4-4931-a7bb-bef2ebfa5ee9",
   "metadata": {},
   "outputs": [
    {
     "data": {
      "text/plain": [
       "product\n",
       "Turmeric Powder/Arisina Pudi          26\n",
       "Extra Virgin Olive Oil                15\n",
       "Cow Ghee/Tuppa                        14\n",
       "Soft Drink                            12\n",
       "Olive Oil - Extra Virgin              12\n",
       "Colorsilk Hair Colour With Keratin    12\n",
       "Coriander Powder                      11\n",
       "Powder - Coriander                    11\n",
       "Ghee/Tuppa                            11\n",
       "Casting Creme Gloss Hair Color        10\n",
       "Name: count, dtype: int64"
      ]
     },
     "execution_count": 35,
     "metadata": {},
     "output_type": "execute_result"
    }
   ],
   "source": [
    "## 1. Top 10 sold product\n",
    "df[\"product\"].value_counts().head(10)"
   ]
  },
  {
   "cell_type": "code",
   "execution_count": 36,
   "id": "9e370027-f59b-45f0-9b87-b2bb82721388",
   "metadata": {},
   "outputs": [
    {
     "name": "stdout",
     "output_type": "stream",
     "text": [
      "product\n",
      "Turmeric Powder/Arisina Pudi          26\n",
      "Extra Virgin Olive Oil                15\n",
      "Cow Ghee/Tuppa                        14\n",
      "Soft Drink                            12\n",
      "Olive Oil - Extra Virgin              12\n",
      "Colorsilk Hair Colour With Keratin    12\n",
      "Coriander Powder                      11\n",
      "Powder - Coriander                    11\n",
      "Ghee/Tuppa                            11\n",
      "Casting Creme Gloss Hair Color        10\n",
      "Name: count, dtype: int64\n"
     ]
    }
   ],
   "source": [
    "top_10_product = df[\"product\"].value_counts().head(10)\n",
    "print(top_10_product)"
   ]
  },
  {
   "cell_type": "code",
   "execution_count": 37,
   "id": "18976d25-cecd-46df-b511-cbd478cdcd4e",
   "metadata": {},
   "outputs": [
    {
     "data": {
      "image/png": "[encoded data removed]",
      "text/plain": [
       "<Figure size 1200x600 with 1 Axes>"
      ]
     },
     "metadata": {},
     "output_type": "display_data"
    }
   ],
   "source": [
    "### barplotting of the sold product \n",
    "plt.figure(figsize = (12,6))\n",
    "plt.bar(x=top_10_product.index,height = top_10_product.values)\n",
    "plt.xlabel(\"product\")\n",
    "plt.ylabel(\"numericals\")\n",
    "plt.title(\"top 10 selling product\")\n",
    "plt.xticks(rotation = 90)\n",
    "plt.show()"
   ]
  },
  {
   "cell_type": "code",
   "execution_count": 38,
   "id": "5b25dab5-e24f-44a4-bc0b-54770b6619e5",
   "metadata": {},
   "outputs": [],
   "source": [
    "## group by \n",
    "top_10_product = df.groupby(\"brand\")[\"product\"].value_counts()\n",
    "sorted_top_10 = top_10_product.sort_values(ascending = False)"
   ]
  },
  {
   "cell_type": "code",
   "execution_count": 39,
   "id": "fbacafdf-63a6-45fa-9c9a-97840e8cd0fd",
   "metadata": {},
   "outputs": [
    {
     "name": "stdout",
     "output_type": "stream",
     "text": [
      "brand         product                           \n",
      "Revlon        Colorsilk Hair Colour With Keratin    12\n",
      "Loreal Paris  Casting Creme Gloss Hair Color        10\n",
      "              Excellence Creme Hair Color            8\n",
      "Garnier       Color Naturals - Creme Hair Color      8\n",
      "Nakoda        Turbo Bucket - Assorted Colour         8\n",
      "                                                    ..\n",
      "Aroma Magic   Essential Oil - Thyme                  1\n",
      "              Essential Oil - Ylang Ylang            1\n",
      "18 Herbs      Organics A2 Desi Cow Ghee/Tuppa        1\n",
      "              Organics Desi Ghee with Turmeric       1\n",
      "sumeru        Quick Snack - Fish Fingers             1\n",
      "Name: count, Length: 24616, dtype: int64\n"
     ]
    }
   ],
   "source": [
    "print(sorted_top_10)"
   ]
  },
  {
   "cell_type": "markdown",
   "id": "6af499a2-84ff-40b1-a54e-8755fd968a75",
   "metadata": {},
   "source": [
    "##  Which products rank among the Bottom 10 in sales performance?"
   ]
  },
  {
   "cell_type": "code",
   "execution_count": 40,
   "id": "eac9cc77-a690-4428-9931-ebf6c046eb0b",
   "metadata": {},
   "outputs": [],
   "source": [
    "## top 10 least product \n",
    "top_10_least = df[\"product\"].value_counts().tail(10)"
   ]
  },
  {
   "cell_type": "code",
   "execution_count": 41,
   "id": "a99b7a91-43ef-4245-8011-63c1aabc325c",
   "metadata": {},
   "outputs": [
    {
     "name": "stdout",
     "output_type": "stream",
     "text": [
      "product\n",
      "Shot Body Spray - Red Stallion                                              1\n",
      "Face Wash - Oil Control, Active                                             1\n",
      "Mold & Mildew Remover with Bleach                                           1\n",
      "Just Spray - Mosquito Repellent Room Spray                                  1\n",
      "Dove Plastic Soap Case - Assorted Colour                                    1\n",
      "Detoxifying Mineral Pack                                                    1\n",
      "Salted Pumpkin                                                              1\n",
      "Plastic Hook/Hanger Card Self Adhesive/Stickable - BH 048                   1\n",
      "Organic Tofu - Soy Paneer                                                   1\n",
      "Mutton - Boneless, 2-3 pcs, Antibiotic Residue-Free, Growth Hormone-Free    1\n",
      "Name: count, dtype: int64\n"
     ]
    }
   ],
   "source": [
    "print(top_10_least)"
   ]
  },
  {
   "cell_type": "code",
   "execution_count": 42,
   "id": "b46fcef9-e810-4a5f-9341-1d7f4ddd9c99",
   "metadata": {},
   "outputs": [
    {
     "data": {
      "image/png": "[encoded data removed]",
      "text/plain": [
       "<Figure size 1600x600 with 1 Axes>"
      ]
     },
     "metadata": {},
     "output_type": "display_data"
    }
   ],
   "source": [
    "plt.figure(figsize = (16,6))\n",
    "plt.bar(x=top_10_least.index,height = top_10_least.values, color = 'green', edgecolor = 'black')\n",
    "plt.xlabel(\"numericals\")\n",
    "plt.ylabel(\"product\")\n",
    "plt.title(\"top 10 least product\")\n",
    "plt.xticks(rotation = 90)\n",
    "plt.show()"
   ]
  },
  {
   "cell_type": "markdown",
   "id": "684ce726-eb39-4e89-9260-159101b6da29",
   "metadata": {},
   "source": [
    "### Most seeling category "
   ]
  },
  {
   "cell_type": "code",
   "execution_count": 43,
   "id": "43598e6a-b49b-4dfd-b45a-ee6b52cb7581",
   "metadata": {},
   "outputs": [],
   "source": [
    "### most selling category \n",
    "most_selling_product= df[\"category\"].value_counts().head()"
   ]
  },
  {
   "cell_type": "code",
   "execution_count": 44,
   "id": "b1c67d2b-02d3-4821-b234-f74bc2a22661",
   "metadata": {},
   "outputs": [
    {
     "data": {
      "image/png": "[encoded data removed]",
      "text/plain": [
       "<Figure size 640x480 with 1 Axes>"
      ]
     },
     "metadata": {},
     "output_type": "display_data"
    }
   ],
   "source": [
    "plt.pie(most_selling_product.values,labels=most_selling_product.index,autopct='%1.1f%%',startangle=90)\n",
    "plt.axis(\"equal\")\n",
    "plt.title(\"Most selling product as per category\")\n",
    "plt.show()"
   ]
  },
  {
   "cell_type": "markdown",
   "id": "48ce73b9-10ba-4873-8ade-ca200266c1f7",
   "metadata": {},
   "source": [
    "### least_selling_product "
   ]
  },
  {
   "cell_type": "markdown",
   "id": "646efa3d-76ff-400d-9346-fbae78f53711",
   "metadata": {},
   "source": []
  },
  {
   "cell_type": "code",
   "execution_count": 45,
   "id": "7551cdb6-0092-4b83-92e1-3f382ce09dfa",
   "metadata": {},
   "outputs": [],
   "source": [
    "least_selling_product = df[\"category\"].value_counts().tail()"
   ]
  },
  {
   "cell_type": "code",
   "execution_count": 46,
   "id": "a826770e-1f51-4f7e-8397-96f0848df4e6",
   "metadata": {},
   "outputs": [
    {
     "name": "stdout",
     "output_type": "stream",
     "text": [
      "category\n",
      "Beverages                885\n",
      "Bakery, Cakes & Dairy    851\n",
      "Baby Care                610\n",
      "Fruits & Vegetables      557\n",
      "Eggs, Meat & Fish        350\n",
      "Name: count, dtype: int64\n"
     ]
    }
   ],
   "source": [
    "print(least_selling_product)"
   ]
  },
  {
   "cell_type": "code",
   "execution_count": 47,
   "id": "593a3e21-f56e-40ef-a51d-921c5c2b4a0f",
   "metadata": {},
   "outputs": [
    {
     "data": {
      "image/png": "[encoded data removed]",
      "text/plain": [
       "<Figure size 640x480 with 1 Axes>"
      ]
     },
     "metadata": {},
     "output_type": "display_data"
    }
   ],
   "source": [
    "    plt.pie(least_selling_product.values,labels = least_selling_product.index,autopct = '1%1.f%%',startangle=90)\n",
    "    plt.axis(\"equal\")\n",
    "    plt.title(\"Least selling product as per the category\")\n",
    "    plt.show()"
   ]
  },
  {
   "cell_type": "markdown",
   "id": "b83745f1-7821-4253-a051-190a31eb4401",
   "metadata": {},
   "source": [
    "##  Which product holds the highest market value?"
   ]
  },
  {
   "cell_type": "code",
   "execution_count": 48,
   "id": "40207817-1a21-42f3-991f-a101e1d9e120",
   "metadata": {},
   "outputs": [],
   "source": [
    "expensive_product = df[\"sale_price\"].max()"
   ]
  },
  {
   "cell_type": "code",
   "execution_count": 49,
   "id": "dc2eeecc-2e6f-4b8c-bf6b-c52351b33de6",
   "metadata": {},
   "outputs": [
    {
     "data": {
      "text/html": [
       "<div>\n",
       "<style scoped>\n",
       "    .dataframe tbody tr th:only-of-type {\n",
       "        vertical-align: middle;\n",
       "    }\n",
       "\n",
       "    .dataframe tbody tr th {\n",
       "        vertical-align: top;\n",
       "    }\n",
       "\n",
       "    .dataframe thead th {\n",
       "        text-align: right;\n",
       "    }\n",
       "</style>\n",
       "<table border=\"1\" class=\"dataframe\">\n",
       "  <thead>\n",
       "    <tr style=\"text-align: right;\">\n",
       "      <th></th>\n",
       "      <th>product</th>\n",
       "      <th>category</th>\n",
       "      <th>sub_category</th>\n",
       "      <th>brand</th>\n",
       "      <th>sale_price</th>\n",
       "      <th>market_price</th>\n",
       "      <th>type</th>\n",
       "      <th>rating</th>\n",
       "      <th>description</th>\n",
       "    </tr>\n",
       "  </thead>\n",
       "  <tbody>\n",
       "    <tr>\n",
       "      <th>8</th>\n",
       "      <td>Biotin &amp; Collagen Volumizing Hair Shampoo + Bi...</td>\n",
       "      <td>Beauty &amp; Hygiene</td>\n",
       "      <td>Hair Care</td>\n",
       "      <td>StBotanica</td>\n",
       "      <td>755.0</td>\n",
       "      <td>912.5</td>\n",
       "      <td>Shampoo &amp; Conditioner</td>\n",
       "      <td>3.7</td>\n",
       "      <td>An exclusive blend with Vitamin B7 Biotin, Hyd...</td>\n",
       "    </tr>\n",
       "    <tr>\n",
       "      <th>47</th>\n",
       "      <td>Colour Catcher Sheets</td>\n",
       "      <td>Cleaning &amp; Household</td>\n",
       "      <td>All Purpose Cleaners</td>\n",
       "      <td>Dylon</td>\n",
       "      <td>755.0</td>\n",
       "      <td>799.0</td>\n",
       "      <td>Imported Cleaners</td>\n",
       "      <td>4.0</td>\n",
       "      <td>1. Prevents Colour Run Accidents Colours that ...</td>\n",
       "    </tr>\n",
       "    <tr>\n",
       "      <th>51</th>\n",
       "      <td>Peach Syrup</td>\n",
       "      <td>Gourmet &amp; World Food</td>\n",
       "      <td>Drinks &amp; Beverages</td>\n",
       "      <td>Pekers</td>\n",
       "      <td>755.0</td>\n",
       "      <td>850.0</td>\n",
       "      <td>Gourmet Juices &amp; Drinks</td>\n",
       "      <td>4.2</td>\n",
       "      <td>Pekers peach syrup takes you on a historical t...</td>\n",
       "    </tr>\n",
       "    <tr>\n",
       "      <th>69</th>\n",
       "      <td>Padded Harness - 3/4 inch, Grey Colour</td>\n",
       "      <td>Kitchen, Garden &amp; Pets</td>\n",
       "      <td>Pet Food &amp; Accessories</td>\n",
       "      <td>Glenand</td>\n",
       "      <td>755.0</td>\n",
       "      <td>840.0</td>\n",
       "      <td>Pet Collars &amp; Leashes</td>\n",
       "      <td>4.1</td>\n",
       "      <td>These are soft padded harness for your active ...</td>\n",
       "    </tr>\n",
       "    <tr>\n",
       "      <th>91</th>\n",
       "      <td>Hard Anodised Ezee-Pour Saucepan With Lid - L88</td>\n",
       "      <td>Kitchen, Garden &amp; Pets</td>\n",
       "      <td>Cookware &amp; Non Stick</td>\n",
       "      <td>Hawkins Futura</td>\n",
       "      <td>755.0</td>\n",
       "      <td>910.0</td>\n",
       "      <td>Tawa &amp; Sauce Pan</td>\n",
       "      <td>4.5</td>\n",
       "      <td>Futura Hard Anodised Saucepan comes with a spo...</td>\n",
       "    </tr>\n",
       "    <tr>\n",
       "      <th>...</th>\n",
       "      <td>...</td>\n",
       "      <td>...</td>\n",
       "      <td>...</td>\n",
       "      <td>...</td>\n",
       "      <td>...</td>\n",
       "      <td>...</td>\n",
       "      <td>...</td>\n",
       "      <td>...</td>\n",
       "      <td>...</td>\n",
       "    </tr>\n",
       "    <tr>\n",
       "      <th>27498</th>\n",
       "      <td>Juicer - Fruit &amp; Vegetable, Light Green</td>\n",
       "      <td>Kitchen, Garden &amp; Pets</td>\n",
       "      <td>Kitchen Accessories</td>\n",
       "      <td>Ganesh</td>\n",
       "      <td>755.0</td>\n",
       "      <td>912.5</td>\n",
       "      <td>Kitchen Tools &amp; Other Accessories</td>\n",
       "      <td>3.7</td>\n",
       "      <td>This juicer comes in various attractive colour...</td>\n",
       "    </tr>\n",
       "    <tr>\n",
       "      <th>27505</th>\n",
       "      <td>Virgin Coconut Oil</td>\n",
       "      <td>Foodgrains, Oil &amp; Masala</td>\n",
       "      <td>Edible Oils &amp; Ghee</td>\n",
       "      <td>Merkera</td>\n",
       "      <td>755.0</td>\n",
       "      <td>875.0</td>\n",
       "      <td>Other Edible Oils</td>\n",
       "      <td>4.1</td>\n",
       "      <td>Merkera Extra Virgin Coconut Oil 100% natural,...</td>\n",
       "    </tr>\n",
       "    <tr>\n",
       "      <th>27514</th>\n",
       "      <td>Verge &amp; Sheer Perfume For Pair</td>\n",
       "      <td>Beauty &amp; Hygiene</td>\n",
       "      <td>Fragrances &amp; Deos</td>\n",
       "      <td>Skinn by Titan</td>\n",
       "      <td>755.0</td>\n",
       "      <td>912.5</td>\n",
       "      <td>Perfume</td>\n",
       "      <td>4.1</td>\n",
       "      <td>VERGE for men paints a picture of a classy out...</td>\n",
       "    </tr>\n",
       "    <tr>\n",
       "      <th>27538</th>\n",
       "      <td>Quista Pro Advanced Whey Protein Formula forti...</td>\n",
       "      <td>Beauty &amp; Hygiene</td>\n",
       "      <td>Health &amp; Medicine</td>\n",
       "      <td>Himalaya</td>\n",
       "      <td>755.0</td>\n",
       "      <td>912.5</td>\n",
       "      <td>Supplements &amp; Proteins</td>\n",
       "      <td>4.0</td>\n",
       "      <td>Quista Pro is a whey protein blend that helps ...</td>\n",
       "    </tr>\n",
       "    <tr>\n",
       "      <th>27542</th>\n",
       "      <td>Embellish Skin Lightening Serum</td>\n",
       "      <td>Beauty &amp; Hygiene</td>\n",
       "      <td>Skin Care</td>\n",
       "      <td>Organic Harvest</td>\n",
       "      <td>755.0</td>\n",
       "      <td>912.5</td>\n",
       "      <td>Face Care</td>\n",
       "      <td>4.2</td>\n",
       "      <td>Achieve an everlasting illuminated skin by inc...</td>\n",
       "    </tr>\n",
       "  </tbody>\n",
       "</table>\n",
       "<p>2207 rows × 9 columns</p>\n",
       "</div>"
      ],
      "text/plain": [
       "                                                 product  \\\n",
       "8      Biotin & Collagen Volumizing Hair Shampoo + Bi...   \n",
       "47                                 Colour Catcher Sheets   \n",
       "51                                           Peach Syrup   \n",
       "69                Padded Harness - 3/4 inch, Grey Colour   \n",
       "91       Hard Anodised Ezee-Pour Saucepan With Lid - L88   \n",
       "...                                                  ...   \n",
       "27498            Juicer - Fruit & Vegetable, Light Green   \n",
       "27505                                 Virgin Coconut Oil   \n",
       "27514                     Verge & Sheer Perfume For Pair   \n",
       "27538  Quista Pro Advanced Whey Protein Formula forti...   \n",
       "27542                    Embellish Skin Lightening Serum   \n",
       "\n",
       "                       category            sub_category            brand  \\\n",
       "8              Beauty & Hygiene               Hair Care       StBotanica   \n",
       "47         Cleaning & Household    All Purpose Cleaners           Dylon    \n",
       "51         Gourmet & World Food      Drinks & Beverages           Pekers   \n",
       "69       Kitchen, Garden & Pets  Pet Food & Accessories          Glenand   \n",
       "91       Kitchen, Garden & Pets    Cookware & Non Stick   Hawkins Futura   \n",
       "...                         ...                     ...              ...   \n",
       "27498    Kitchen, Garden & Pets     Kitchen Accessories           Ganesh   \n",
       "27505  Foodgrains, Oil & Masala      Edible Oils & Ghee          Merkera   \n",
       "27514          Beauty & Hygiene       Fragrances & Deos   Skinn by Titan   \n",
       "27538          Beauty & Hygiene       Health & Medicine         Himalaya   \n",
       "27542          Beauty & Hygiene               Skin Care  Organic Harvest   \n",
       "\n",
       "       sale_price  market_price                               type  rating  \\\n",
       "8           755.0         912.5              Shampoo & Conditioner     3.7   \n",
       "47          755.0         799.0                  Imported Cleaners     4.0   \n",
       "51          755.0         850.0            Gourmet Juices & Drinks     4.2   \n",
       "69          755.0         840.0              Pet Collars & Leashes     4.1   \n",
       "91          755.0         910.0                   Tawa & Sauce Pan     4.5   \n",
       "...           ...           ...                                ...     ...   \n",
       "27498       755.0         912.5  Kitchen Tools & Other Accessories     3.7   \n",
       "27505       755.0         875.0                  Other Edible Oils     4.1   \n",
       "27514       755.0         912.5                            Perfume     4.1   \n",
       "27538       755.0         912.5             Supplements & Proteins     4.0   \n",
       "27542       755.0         912.5                          Face Care     4.2   \n",
       "\n",
       "                                             description  \n",
       "8      An exclusive blend with Vitamin B7 Biotin, Hyd...  \n",
       "47     1. Prevents Colour Run Accidents Colours that ...  \n",
       "51     Pekers peach syrup takes you on a historical t...  \n",
       "69     These are soft padded harness for your active ...  \n",
       "91     Futura Hard Anodised Saucepan comes with a spo...  \n",
       "...                                                  ...  \n",
       "27498  This juicer comes in various attractive colour...  \n",
       "27505  Merkera Extra Virgin Coconut Oil 100% natural,...  \n",
       "27514  VERGE for men paints a picture of a classy out...  \n",
       "27538  Quista Pro is a whey protein blend that helps ...  \n",
       "27542  Achieve an everlasting illuminated skin by inc...  \n",
       "\n",
       "[2207 rows x 9 columns]"
      ]
     },
     "execution_count": 49,
     "metadata": {},
     "output_type": "execute_result"
    }
   ],
   "source": [
    "df[df[\"sale_price\"] == max(df[\"sale_price\"])]"
   ]
  },
  {
   "cell_type": "code",
   "execution_count": 50,
   "id": "50fda786-4929-4c28-94b7-e32c3fd28b33",
   "metadata": {},
   "outputs": [
    {
     "name": "stdout",
     "output_type": "stream",
     "text": [
      "755.0\n"
     ]
    }
   ],
   "source": [
    "print(expensive_product)"
   ]
  },
  {
   "cell_type": "markdown",
   "id": "9041f73c-4c07-4d30-b1af-0c06b17779ff",
   "metadata": {},
   "source": []
  },
  {
   "cell_type": "code",
   "execution_count": 51,
   "id": "3de7471b-36dc-4e02-982c-c3c53ab60b0f",
   "metadata": {},
   "outputs": [
    {
     "data": {
      "text/plain": [
       "category\n",
       "Beauty & Hygiene            7867\n",
       "Gourmet & World Food        4690\n",
       "Kitchen, Garden & Pets      3580\n",
       "Snacks & Branded Foods      2814\n",
       "Foodgrains, Oil & Masala    2676\n",
       "Cleaning & Household        2675\n",
       "Beverages                    885\n",
       "Bakery, Cakes & Dairy        851\n",
       "Baby Care                    610\n",
       "Fruits & Vegetables          557\n",
       "Eggs, Meat & Fish            350\n",
       "Name: count, dtype: int64"
      ]
     },
     "execution_count": 51,
     "metadata": {},
     "output_type": "execute_result"
    }
   ],
   "source": [
    "df[\"category\"].value_counts()"
   ]
  },
  {
   "cell_type": "markdown",
   "id": "4392e099-fcfa-45ec-8c2e-ab0b99280fd2",
   "metadata": {},
   "source": [
    "## In what ways does the selling price affect overall market pricing?"
   ]
  },
  {
   "cell_type": "code",
   "execution_count": 52,
   "id": "d2d8b3b2-3e83-49e6-bc89-31b3df23f0f3",
   "metadata": {},
   "outputs": [
    {
     "data": {
      "image/png": "[encoded data removed]",
      "text/plain": [
       "<Figure size 640x480 with 1 Axes>"
      ]
     },
     "metadata": {},
     "output_type": "display_data"
    }
   ],
   "source": [
    "### Sale_price and market price effects \n",
    "\n",
    "plt.figure()\n",
    "plt.scatter(x= df[\"sale_price\"],y= df[\"market_price\"])\n",
    "plt.title(\"affects\")\n",
    "plt.xlabel(\"market_price\")\n",
    "plt.ylabel(\"sale_price\")\n",
    "plt.show()"
   ]
  },
  {
   "cell_type": "markdown",
   "id": "9450a019-8e65-4d7c-ba6f-a169c34baef4",
   "metadata": {},
   "source": [
    "## In what ways does pricing affect consumer demand?"
   ]
  },
  {
   "cell_type": "code",
   "execution_count": 53,
   "id": "75229f83-9dba-451e-b3d8-9301a2bcd47f",
   "metadata": {},
   "outputs": [
    {
     "name": "stdout",
     "output_type": "stream",
     "text": [
      "                                          product  count   price\n",
      "0                            & Moms - Citrus Soap      1  195.00\n",
      "1                            & Moms - Sandal Soap      1  108.00\n",
      "2                   & Moms Bathing Soap - Jasmine      1  108.00\n",
      "3                     & Moms Bathing Soap - Tulsi      1  108.00\n",
      "4                          0.0 Non Alcoholic Beer      1   56.25\n",
      "...                                           ...    ...     ...\n",
      "23536    oriental Instant Noodles - Curry Flavour      1   36.00\n",
      "23537   oriental Instant Noodles - Masala Flavour      1   36.00\n",
      "23538  oriental Instant Noodles - Tom Yam Flavour      1   36.00\n",
      "23539   oriental-Instant Noodles - Tomato Flavour      1   36.00\n",
      "23540                                 pasta shell      1   70.00\n",
      "\n",
      "[23541 rows x 3 columns]\n",
      "                                  product  count   price\n",
      "22258        Turmeric Powder/Arisina Pudi     26   32.00\n",
      "7195               Extra Virgin Olive Oil     15  755.00\n",
      "5366                       Cow Ghee/Tuppa     14  432.00\n",
      "4985   Colorsilk Hair Colour With Keratin     12  413.25\n",
      "19972                          Soft Drink     12  145.80\n",
      "14503            Olive Oil - Extra Virgin     12  693.00\n",
      "17012                  Powder - Coriander     11  143.00\n",
      "8432                           Ghee/Tuppa     11  564.00\n",
      "5298                     Coriander Powder     11   24.00\n",
      "16001              Peanut Butter - Creamy     10   30.00\n"
     ]
    }
   ],
   "source": [
    "## product and price \n",
    "result = df.groupby(\"product\").agg(count= (\"product\" ,\"count\"),price = (\"sale_price\",\"first\")).reset_index()\n",
    "\n",
    "print(result)\n",
    "top_10 = result.sort_values(by='count', ascending=False).head(10)\n",
    "\n",
    "print(top_10)"
   ]
  },
  {
   "cell_type": "code",
   "execution_count": 54,
   "id": "890a05ca-7e8d-4b5a-ae36-60e47362fcb1",
   "metadata": {},
   "outputs": [
    {
     "data": {
      "text/plain": [
       "product    pasta shell\n",
       "count               26\n",
       "price            755.0\n",
       "dtype: object"
      ]
     },
     "execution_count": 54,
     "metadata": {},
     "output_type": "execute_result"
    }
   ],
   "source": [
    "result.max()"
   ]
  },
  {
   "cell_type": "code",
   "execution_count": 55,
   "id": "b275f69a-3767-43b2-98cf-88ce85431c64",
   "metadata": {},
   "outputs": [
    {
     "data": {
      "image/png": "[encoded data removed]",
      "text/plain": [
       "<Figure size 640x480 with 1 Axes>"
      ]
     },
     "metadata": {},
     "output_type": "display_data"
    }
   ],
   "source": [
    "plt.figure()\n",
    "plt.scatter(x= top_10[\"price\"],y= top_10[\"count\"], color = 'red')\n",
    "plt.plot(top_10[\"price\"],top_10[\"count\"],color = 'blue', linestyle = '-',linewidth = 2, label = 'connecting line')\n",
    "plt.title(\"affects\")\n",
    "plt.xlabel(\"price\")\n",
    "plt.ylabel(\"count\")\n",
    "plt.legend()\n",
    "plt.show()"
   ]
  },
  {
   "cell_type": "code",
   "execution_count": 56,
   "id": "76d18d09-33e5-4125-84cc-c9e7cbdce103",
   "metadata": {},
   "outputs": [
    {
     "data": {
      "text/html": [
       "<div>\n",
       "<style scoped>\n",
       "    .dataframe tbody tr th:only-of-type {\n",
       "        vertical-align: middle;\n",
       "    }\n",
       "\n",
       "    .dataframe tbody tr th {\n",
       "        vertical-align: top;\n",
       "    }\n",
       "\n",
       "    .dataframe thead th {\n",
       "        text-align: right;\n",
       "    }\n",
       "</style>\n",
       "<table border=\"1\" class=\"dataframe\">\n",
       "  <thead>\n",
       "    <tr style=\"text-align: right;\">\n",
       "      <th></th>\n",
       "      <th>product</th>\n",
       "      <th>category</th>\n",
       "      <th>sub_category</th>\n",
       "      <th>brand</th>\n",
       "      <th>sale_price</th>\n",
       "      <th>market_price</th>\n",
       "      <th>type</th>\n",
       "      <th>rating</th>\n",
       "      <th>description</th>\n",
       "    </tr>\n",
       "  </thead>\n",
       "  <tbody>\n",
       "    <tr>\n",
       "      <th>0</th>\n",
       "      <td>Garlic Oil - Vegetarian Capsule 500 mg</td>\n",
       "      <td>Beauty &amp; Hygiene</td>\n",
       "      <td>Hair Care</td>\n",
       "      <td>Sri Sri Ayurveda</td>\n",
       "      <td>220.0</td>\n",
       "      <td>220.0</td>\n",
       "      <td>Hair Oil &amp; Serum</td>\n",
       "      <td>4.1</td>\n",
       "      <td>This Product contains Garlic Oil that is known...</td>\n",
       "    </tr>\n",
       "    <tr>\n",
       "      <th>1</th>\n",
       "      <td>Water Bottle - Orange</td>\n",
       "      <td>Kitchen, Garden &amp; Pets</td>\n",
       "      <td>Storage &amp; Accessories</td>\n",
       "      <td>Mastercook</td>\n",
       "      <td>180.0</td>\n",
       "      <td>180.0</td>\n",
       "      <td>Water &amp; Fridge Bottles</td>\n",
       "      <td>3.7</td>\n",
       "      <td>Each product is microwave safe (without lid), ...</td>\n",
       "    </tr>\n",
       "    <tr>\n",
       "      <th>2</th>\n",
       "      <td>Brass Angle Deep - Plain, No.2</td>\n",
       "      <td>Cleaning &amp; Household</td>\n",
       "      <td>Pooja Needs</td>\n",
       "      <td>Trm</td>\n",
       "      <td>119.0</td>\n",
       "      <td>250.0</td>\n",
       "      <td>Lamp &amp; Lamp Oil</td>\n",
       "      <td>3.7</td>\n",
       "      <td>A perfect gift for all occasions, be it your m...</td>\n",
       "    </tr>\n",
       "    <tr>\n",
       "      <th>3</th>\n",
       "      <td>Cereal Flip Lid Container/Storage Jar - Assort...</td>\n",
       "      <td>Cleaning &amp; Household</td>\n",
       "      <td>Bins &amp; Bathroom Ware</td>\n",
       "      <td>Nakoda</td>\n",
       "      <td>149.0</td>\n",
       "      <td>176.0</td>\n",
       "      <td>Laundry, Storage Baskets</td>\n",
       "      <td>3.7</td>\n",
       "      <td>Multipurpose container with an attractive desi...</td>\n",
       "    </tr>\n",
       "    <tr>\n",
       "      <th>4</th>\n",
       "      <td>Creme Soft Soap - For Hands &amp; Body</td>\n",
       "      <td>Beauty &amp; Hygiene</td>\n",
       "      <td>Bath &amp; Hand Wash</td>\n",
       "      <td>Nivea</td>\n",
       "      <td>162.0</td>\n",
       "      <td>162.0</td>\n",
       "      <td>Bathing Bars &amp; Soaps</td>\n",
       "      <td>4.4</td>\n",
       "      <td>Nivea Creme Soft Soap gives your skin the best...</td>\n",
       "    </tr>\n",
       "  </tbody>\n",
       "</table>\n",
       "</div>"
      ],
      "text/plain": [
       "                                             product                category  \\\n",
       "0             Garlic Oil - Vegetarian Capsule 500 mg        Beauty & Hygiene   \n",
       "1                              Water Bottle - Orange  Kitchen, Garden & Pets   \n",
       "2                     Brass Angle Deep - Plain, No.2    Cleaning & Household   \n",
       "3  Cereal Flip Lid Container/Storage Jar - Assort...    Cleaning & Household   \n",
       "4                 Creme Soft Soap - For Hands & Body        Beauty & Hygiene   \n",
       "\n",
       "            sub_category              brand  sale_price  market_price  \\\n",
       "0              Hair Care  Sri Sri Ayurveda        220.0         220.0   \n",
       "1  Storage & Accessories         Mastercook       180.0         180.0   \n",
       "2            Pooja Needs                Trm       119.0         250.0   \n",
       "3   Bins & Bathroom Ware             Nakoda       149.0         176.0   \n",
       "4       Bath & Hand Wash              Nivea       162.0         162.0   \n",
       "\n",
       "                       type  rating  \\\n",
       "0          Hair Oil & Serum     4.1   \n",
       "1    Water & Fridge Bottles     3.7   \n",
       "2           Lamp & Lamp Oil     3.7   \n",
       "3  Laundry, Storage Baskets     3.7   \n",
       "4      Bathing Bars & Soaps     4.4   \n",
       "\n",
       "                                         description  \n",
       "0  This Product contains Garlic Oil that is known...  \n",
       "1  Each product is microwave safe (without lid), ...  \n",
       "2  A perfect gift for all occasions, be it your m...  \n",
       "3  Multipurpose container with an attractive desi...  \n",
       "4  Nivea Creme Soft Soap gives your skin the best...  "
      ]
     },
     "execution_count": 56,
     "metadata": {},
     "output_type": "execute_result"
    }
   ],
   "source": [
    "df.head()"
   ]
  },
  {
   "cell_type": "markdown",
   "id": "f1c35798-4814-4a19-a497-2504a5d8499f",
   "metadata": {},
   "source": [
    "## What is the impact of customer ratings on the number of units sold?"
   ]
  },
  {
   "cell_type": "code",
   "execution_count": 57,
   "id": "9f16987a-e7f8-4992-aabe-2efa8ca0eb0b",
   "metadata": {},
   "outputs": [
    {
     "name": "stdout",
     "output_type": "stream",
     "text": [
      "                                          product  count   price\n",
      "0                            & Moms - Citrus Soap      1  195.00\n",
      "1                            & Moms - Sandal Soap      1  108.00\n",
      "2                   & Moms Bathing Soap - Jasmine      1  108.00\n",
      "3                     & Moms Bathing Soap - Tulsi      1  108.00\n",
      "4                          0.0 Non Alcoholic Beer      1   56.25\n",
      "...                                           ...    ...     ...\n",
      "23536    oriental Instant Noodles - Curry Flavour      1   36.00\n",
      "23537   oriental Instant Noodles - Masala Flavour      1   36.00\n",
      "23538  oriental Instant Noodles - Tom Yam Flavour      1   36.00\n",
      "23539   oriental-Instant Noodles - Tomato Flavour      1   36.00\n",
      "23540                                 pasta shell      1   70.00\n",
      "\n",
      "[23541 rows x 3 columns]\n",
      "                                  product  count   price\n",
      "22258        Turmeric Powder/Arisina Pudi     26   32.00\n",
      "7195               Extra Virgin Olive Oil     15  755.00\n",
      "5366                       Cow Ghee/Tuppa     14  432.00\n",
      "4985   Colorsilk Hair Colour With Keratin     12  413.25\n",
      "19972                          Soft Drink     12  145.80\n",
      "14503            Olive Oil - Extra Virgin     12  693.00\n",
      "17012                  Powder - Coriander     11  143.00\n",
      "8432                           Ghee/Tuppa     11  564.00\n",
      "5298                     Coriander Powder     11   24.00\n",
      "16001              Peanut Butter - Creamy     10   30.00\n"
     ]
    }
   ],
   "source": [
    "##rating and product \n",
    "result = df.groupby(\"product\").agg(count= (\"product\" ,\"count\"),price = (\"sale_price\",\"first\")).reset_index()\n",
    "\n",
    "print(result)\n",
    "top_10 = result.sort_values(by='count', ascending=False).head(10)\n",
    "\n",
    "print(top_10)"
   ]
  },
  {
   "cell_type": "code",
   "execution_count": 58,
   "id": "7d1c5570-4814-4af1-aba7-aaf1b59dbcd4",
   "metadata": {},
   "outputs": [],
   "source": [
    "total_rating = df.groupby(\"product\").agg(total_rating=(\"rating\", \"sum\"))"
   ]
  },
  {
   "cell_type": "code",
   "execution_count": 59,
   "id": "833dcbec-4e23-4b9e-b016-2478d192413c",
   "metadata": {},
   "outputs": [
    {
     "name": "stdout",
     "output_type": "stream",
     "text": [
      "                                            total_rating\n",
      "product                                                 \n",
      "& Moms - Citrus Soap                                 4.2\n",
      "& Moms - Sandal Soap                                 4.2\n",
      "& Moms Bathing Soap - Jasmine                        4.5\n",
      "& Moms Bathing Soap - Tulsi                          4.4\n",
      "0.0 Non Alcoholic Beer                               4.2\n",
      "...                                                  ...\n",
      "oriental Instant Noodles - Curry Flavour             3.9\n",
      "oriental Instant Noodles - Masala Flavour            3.9\n",
      "oriental Instant Noodles - Tom Yam Flavour           4.0\n",
      "oriental-Instant Noodles - Tomato Flavour            4.2\n",
      "pasta shell                                          4.1\n",
      "\n",
      "[23541 rows x 1 columns]\n"
     ]
    }
   ],
   "source": [
    "print(total_rating)"
   ]
  },
  {
   "cell_type": "code",
   "execution_count": 60,
   "id": "c24d69ae-0602-4475-b024-24e3868689c7",
   "metadata": {},
   "outputs": [
    {
     "data": {
      "image/png": "[encoded data removed]",
      "text/plain": [
       "<Figure size 640x480 with 1 Axes>"
      ]
     },
     "metadata": {},
     "output_type": "display_data"
    }
   ],
   "source": [
    "### How rating impacts the number of product sold?\n",
    "plt.figure()\n",
    "plt.scatter(x=total_rating.index, y=total_rating[\"total_rating\"], color='red')\n",
    "plt.plot(total_rating.index, total_rating[\"total_rating\"], color='blue', linestyle='-', linewidth=2, label='connecting line')\n",
    "plt.title(\"Effect of Product on Total Rating\")\n",
    "plt.xlabel(\"Product\")\n",
    "plt.ylabel(\"Total Rating\")\n",
    "plt.legend()\n",
    "plt.show()"
   ]
  },
  {
   "cell_type": "markdown",
   "id": "82b3a24f-cde5-425b-958b-8db4d3b8b8c8",
   "metadata": {},
   "source": [
    "## 🔗 What correlations exist among the product features? \n",
    "- Use heatmaps or pairplots to find correlations between:\n",
    "- Ratings and duration\n",
    "- Release year and popularity\n",
    "- Ratings and genre frequency"
   ]
  },
  {
   "cell_type": "code",
   "execution_count": 61,
   "id": "3b3e5a59-eb14-4fca-b529-9dd1cb6213d1",
   "metadata": {},
   "outputs": [],
   "source": [
    "## heatmap - used to show correlation between numerical features\n",
    "corr = df.select_dtypes(include = [\"int64\", \"float64\"]).corr()"
   ]
  },
  {
   "cell_type": "code",
   "execution_count": 62,
   "id": "2fbbe78b-a495-4ebd-94ea-c1716ec621f8",
   "metadata": {},
   "outputs": [
    {
     "data": {
      "text/plain": [
       "<Axes: >"
      ]
     },
     "execution_count": 62,
     "metadata": {},
     "output_type": "execute_result"
    },
    {
     "data": {
      "image/png": "[encoded data removed]",
      "text/plain": [
       "<Figure size 640x480 with 2 Axes>"
      ]
     },
     "metadata": {},
     "output_type": "display_data"
    }
   ],
   "source": [
    "sns.heatmap(corr, annot = True, cmap =\"inferno\")"
   ]
  },
  {
   "cell_type": "code",
   "execution_count": null,
   "id": "e4562e12-5380-479c-956a-582c7c86184f",
   "metadata": {},
   "outputs": [],
   "source": [
    "## pairplot\n",
    "sns.pairplot(df, hue = \"product\")"
   ]
  },
  {
   "cell_type": "markdown",
   "id": "92daa26c-0f97-44ef-9169-f521ffec8291",
   "metadata": {},
   "source": [
    "## ✅ 16. Conclusions & Recommendations\n",
    "🔑 Key Findings:  The analysis revealed that certain product categories consistently outperform others in terms of sales volume. Variables such as price, discount, and customer ratings showed a strong influence on purchasing decisions. Correlation analysis further highlighted interdependencies among variables, providing a clearer understanding of the factors driving product performance. These findings can serve as a foundation for more strategic decision-making in marketing, inventory management, and customer engagement.\n",
    "💡 Actionable Recommendations: Promote High-Performing Categories,Optimize Pricing and Discount Strategies,Segment Customer Behavior,Optimize Pricing and Discount Strategies"
   ]
  }
 ],
 "metadata": {
  "kernelspec": {
   "display_name": "Python 3 (ipykernel)",
   "language": "python",
   "name": "python3"
  },
  "language_info": {
   "codemirror_mode": {
    "name": "ipython",
    "version": 3
   },
   "file_extension": ".py",
   "mimetype": "text/x-python",
   "name": "python",
   "nbconvert_exporter": "python",
   "pygments_lexer": "ipython3",
   "version": "3.13.5"
  }
 },
 "nbformat": 4,
 "nbformat_minor": 5
}
